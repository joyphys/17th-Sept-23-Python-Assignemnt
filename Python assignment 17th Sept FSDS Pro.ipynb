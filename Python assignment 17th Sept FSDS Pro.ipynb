{
 "cells": [
  {
   "cell_type": "markdown",
   "id": "63972d61",
   "metadata": {},
   "source": [
    "# For Loop :-\n"
   ]
  },
  {
   "cell_type": "code",
   "execution_count": 1,
   "id": "6445063d",
   "metadata": {},
   "outputs": [
    {
     "name": "stdout",
     "output_type": "stream",
     "text": [
      "1 2 3 4 5 6 7 8 9 10 "
     ]
    }
   ],
   "source": [
    "#1. Write a Python program to print numbers from 1 to 10 using a for loop.\n",
    "\n",
    "for i in range(10):\n",
    "  print(i+1,end =' ')"
   ]
  },
  {
   "cell_type": "markdown",
   "id": "046e5a05",
   "metadata": {},
   "source": [
    "# Important"
   ]
  },
  {
   "cell_type": "code",
   "execution_count": 2,
   "id": "a0984455",
   "metadata": {},
   "outputs": [
    {
     "data": {
      "text/plain": [
       "'\\nWe use while loop when the number of iterations is not fixed beforehand, rather it depends\\non the fulfilment of some condition.\\n\\nWe use for loop when the number of iterations is fixed.'"
      ]
     },
     "execution_count": 2,
     "metadata": {},
     "output_type": "execute_result"
    }
   ],
   "source": [
    "#2. Explain the difference between a for loop and a while loop in Python.\n",
    "'''\n",
    "We use while loop when the number of iterations is not fixed beforehand, rather it depends\n",
    "on the fulfilment of some condition.\n",
    "\n",
    "We use for loop when the number of iterations is fixed.'''"
   ]
  },
  {
   "cell_type": "code",
   "execution_count": 3,
   "id": "e2259397",
   "metadata": {},
   "outputs": [
    {
     "name": "stdout",
     "output_type": "stream",
     "text": [
      "5050\n"
     ]
    }
   ],
   "source": [
    "#3. Write a Python program to calculate the sum of all numbers from 1 to 100 using a for loop.\n",
    "\n",
    "s=0\n",
    "\n",
    "for i in range(0,100):\n",
    "  s=s+i+1\n",
    "\n",
    "print(s)"
   ]
  },
  {
   "cell_type": "markdown",
   "id": "df9a5205",
   "metadata": {},
   "source": [
    "# Important"
   ]
  },
  {
   "cell_type": "code",
   "execution_count": 4,
   "id": "775eeb5d",
   "metadata": {},
   "outputs": [
    {
     "name": "stdout",
     "output_type": "stream",
     "text": [
      "1 2 3 4 \n",
      "1 2 3 4 \n",
      "0 1\n",
      "1 2\n",
      "2 3\n",
      "3 4\n"
     ]
    }
   ],
   "source": [
    "#4. How do you iterate through a list using a for loop in Python?\n",
    "\n",
    "#The for loop implicitly applies the iter() function on the list, which is an iterable,\n",
    "#to convert it into an iterator, then implicitly applies next() function to iterate throught the elements\n",
    "#of the iterator.\n",
    "\n",
    "l=[1,2,3,4]\n",
    "\n",
    "for i in l:\n",
    "  print(i,end= ' ')\n",
    "print()\n",
    "\n",
    "for i in range(len(l)):\n",
    "  print(l[i],end= ' ')\n",
    "print()\n",
    "\n",
    "for i,j in enumerate(l):\n",
    "  print(i,j)"
   ]
  },
  {
   "cell_type": "code",
   "execution_count": 5,
   "id": "4bcb9f81",
   "metadata": {},
   "outputs": [
    {
     "name": "stdout",
     "output_type": "stream",
     "text": [
      "24\n"
     ]
    }
   ],
   "source": [
    "#5. Write a Python program to find the product of all elements in a list using a for loop.\n",
    "\n",
    "\n",
    "l=[1,2,3,4]\n",
    "\n",
    "result=1\n",
    "\n",
    "for i in l:\n",
    "  result=result*i\n",
    "\n",
    "print(result)"
   ]
  },
  {
   "cell_type": "code",
   "execution_count": 6,
   "id": "44b45121",
   "metadata": {},
   "outputs": [
    {
     "name": "stdout",
     "output_type": "stream",
     "text": [
      "0,2,4,6,8,10,12,14,16,18,20,"
     ]
    }
   ],
   "source": [
    "#6. Create a Python program that prints all even numbers from 1 to 20 using a for loop.\n",
    "\n",
    "for i in range(21):\n",
    "  if i%2==0:\n",
    "    print(i,end=',')"
   ]
  },
  {
   "cell_type": "code",
   "execution_count": 7,
   "id": "f94923b9",
   "metadata": {},
   "outputs": [
    {
     "name": "stdout",
     "output_type": "stream",
     "text": [
      "Enter the number : 5\n",
      "120\n"
     ]
    }
   ],
   "source": [
    "#7. Write a Python program that calculates the factorial of a number using a for loop.\n",
    "\n",
    "n=int(input(\"Enter the number : \"))\n",
    "result=1\n",
    "for i in range(n):\n",
    "  result=result*(i+1)\n",
    "\n",
    "print(result)"
   ]
  },
  {
   "cell_type": "code",
   "execution_count": 8,
   "id": "8dd1813b",
   "metadata": {},
   "outputs": [
    {
     "name": "stdout",
     "output_type": "stream",
     "text": [
      "Enter the string : happy \n",
      "h a p p y   "
     ]
    }
   ],
   "source": [
    "#8. How can you iterate through the characters of a string using a for loop in Python?\n",
    "\n",
    "string=input(\"Enter the string : \")\n",
    "\n",
    "for i in string:\n",
    "  print(i, end=' ')"
   ]
  },
  {
   "cell_type": "markdown",
   "id": "0fb6f493",
   "metadata": {},
   "source": [
    "# Important"
   ]
  },
  {
   "cell_type": "code",
   "execution_count": 9,
   "id": "a14b4dfd",
   "metadata": {},
   "outputs": [
    {
     "name": "stdout",
     "output_type": "stream",
     "text": [
      "120\n"
     ]
    }
   ],
   "source": [
    "#9. Write a Python program to find the largest number in a list using a for loop.\n",
    "\n",
    "l=[12,55,8,80,93,120,2,33]\n",
    "\n",
    "largest=0\n",
    "for i in l:\n",
    "  if i>largest:\n",
    "    largest=i\n",
    "\n",
    "print(largest)"
   ]
  },
  {
   "cell_type": "markdown",
   "id": "e9e11253",
   "metadata": {},
   "source": [
    "# Important"
   ]
  },
  {
   "cell_type": "code",
   "execution_count": 10,
   "id": "1c54c72b",
   "metadata": {},
   "outputs": [
    {
     "name": "stdout",
     "output_type": "stream",
     "text": [
      "Enter the limit : 7\n",
      "0 1 1 2 3 5 8 "
     ]
    }
   ],
   "source": [
    "#10. Create a Python program that prints the Fibonacci sequence up to a specified limit using a for loop.\n",
    "\n",
    "n=int(input(\"Enter the limit : \"))\n",
    "\n",
    "a=0\n",
    "b=1\n",
    "\n",
    "for i in range(n):\n",
    "  print(a,end= ' ')\n",
    "  a,b=b,a+b"
   ]
  },
  {
   "cell_type": "code",
   "execution_count": 11,
   "id": "eb6d45f3",
   "metadata": {},
   "outputs": [
    {
     "name": "stdout",
     "output_type": "stream",
     "text": [
      "Enter the string : summer\n",
      "the number of vowels present in the string is : 2\n"
     ]
    }
   ],
   "source": [
    "#11. Write a Python program to count the number of vowels in a given string using a for loop.\n",
    "\n",
    "vowels=['a','e','i','o','u','A','E','I','O','U']\n",
    "\n",
    "string=input(\"Enter the string : \")\n",
    "c=0\n",
    "for i in string:\n",
    "  if i in vowels:\n",
    "    c=c+1\n",
    "print(f\"the number of vowels present in the string is : {c}\")"
   ]
  },
  {
   "cell_type": "code",
   "execution_count": 12,
   "id": "1ca5d8a9",
   "metadata": {},
   "outputs": [
    {
     "name": "stdout",
     "output_type": "stream",
     "text": [
      "Enter the number :  7\n",
      "7 1 7\n",
      "7 2 14\n",
      "7 3 21\n",
      "7 4 28\n",
      "7 5 35\n",
      "7 6 42\n",
      "7 7 49\n",
      "7 8 56\n",
      "7 9 63\n",
      "7 10 70\n"
     ]
    }
   ],
   "source": [
    "#12. Create a Python program that generates a multiplication table for a given number using a for loop.\n",
    "\n",
    "n=int(input(\"Enter the number :  \"))\n",
    "\n",
    "for i in range(10):\n",
    "  print(n,i+1,n*(i+1))"
   ]
  },
  {
   "cell_type": "markdown",
   "id": "4a8a2a94",
   "metadata": {},
   "source": [
    "# Important"
   ]
  },
  {
   "cell_type": "code",
   "execution_count": 13,
   "id": "1789ccfb",
   "metadata": {},
   "outputs": [
    {
     "name": "stdout",
     "output_type": "stream",
     "text": [
      "[9, 7, 6, 8, 5, 4]\n"
     ]
    }
   ],
   "source": [
    "#13. Write a Python program to reverse a list using a for loop.\n",
    "\n",
    "l=[4,5,8,6,7,9]\n",
    "l1=[]\n",
    "for i in range(len(l)-1,-1,-1):\n",
    "  l1.append(l[i])\n",
    "\n",
    "print(l1)"
   ]
  },
  {
   "cell_type": "code",
   "execution_count": 14,
   "id": "03b249d6",
   "metadata": {},
   "outputs": [
    {
     "name": "stdout",
     "output_type": "stream",
     "text": [
      "a 77 "
     ]
    }
   ],
   "source": [
    "#14. Write a Python program to find the common elements between two lists using a for loop.\n",
    "\n",
    "l1=['a',1,2,33,77,'abc']\n",
    "\n",
    "l2=[77,7,8,9,'bcd','a']\n",
    "\n",
    "for i in l1:\n",
    "  if i in l2:\n",
    "    print(i,end=' ')"
   ]
  },
  {
   "cell_type": "markdown",
   "id": "e9128664",
   "metadata": {},
   "source": [
    "# Important"
   ]
  },
  {
   "cell_type": "code",
   "execution_count": 15,
   "id": "52e77259",
   "metadata": {},
   "outputs": [
    {
     "name": "stdout",
     "output_type": "stream",
     "text": [
      "a 11\n",
      "b 33\n",
      "c 77\n",
      "\n",
      "a\n",
      "b\n",
      "c\n",
      "\n",
      "11\n",
      "33\n",
      "77\n"
     ]
    }
   ],
   "source": [
    "#15. Explain how to use a for loop to iterate through the keys and values of a dictionary in Python.\n",
    "\n",
    "d={'a':11,'b':33,'c':77}\n",
    "\n",
    "for i,j in d.items():\n",
    "  print(i,j)\n",
    "print()\n",
    "\n",
    "for i in d:\n",
    "  print(i)\n",
    "print()\n",
    "\n",
    "for i in d.values():\n",
    "  print(i)"
   ]
  },
  {
   "cell_type": "markdown",
   "id": "f2dbaf2a",
   "metadata": {},
   "source": [
    "# Important"
   ]
  },
  {
   "cell_type": "code",
   "execution_count": 4,
   "id": "bf543c64",
   "metadata": {},
   "outputs": [
    {
     "name": "stdout",
     "output_type": "stream",
     "text": [
      "9\n"
     ]
    }
   ],
   "source": [
    "#16. Write a Python program to find the GCD (Greatest Common Divisor) of two numbers using a for loop.\n",
    "\n",
    "n1=27\n",
    "n2=9\n",
    "if n1>n2:\n",
    "  n=n2\n",
    "else:\n",
    "  n=n1\n",
    "gcd=0\n",
    "for i in range(1,n+1):\n",
    "  if n1%i==0:\n",
    "    if n2%i==0:\n",
    "      if i>gcd:\n",
    "        gcd=i\n",
    "print(gcd)"
   ]
  },
  {
   "cell_type": "code",
   "execution_count": 19,
   "id": "713438f3",
   "metadata": {},
   "outputs": [
    {
     "name": "stdout",
     "output_type": "stream",
     "text": [
      "Enter the string : tenet\n",
      "tenet is a palindrome\n"
     ]
    }
   ],
   "source": [
    "#17. Create a Python program that checks if a string is a palindrome using a for loop.\n",
    "\n",
    "string=input(\"Enter the string : \")\n",
    "\n",
    "for i in range(len(string)):\n",
    "  if string[i]!=string[len(string)-i-1]:\n",
    "    print(f\"{string} is not a palindrome\")\n",
    "    break\n",
    "else:\n",
    "  print(f\"{string} is a palindrome\")"
   ]
  },
  {
   "cell_type": "markdown",
   "id": "20e8b0e7",
   "metadata": {},
   "source": [
    "# Important"
   ]
  },
  {
   "cell_type": "code",
   "execution_count": 2,
   "id": "8a016a6e",
   "metadata": {},
   "outputs": [
    {
     "name": "stdout",
     "output_type": "stream",
     "text": [
      "elements that have duplicates in the list are : [2, 3, 'a', 4, 10]\n",
      "Final list with all duplicates removed is : [1, 5, 6, 2, 3, 4, 'a', 10]\n"
     ]
    }
   ],
   "source": [
    "#18. Write a Python program to remove duplicates from a list using a for loop.\n",
    "\n",
    "\n",
    "my_list=[1,2,3,'a',4,5,6,2,3,3,3,'a',4,10,'a',10,10,]\n",
    "\n",
    "def find_and_remove_duplicates(lst):\n",
    "\n",
    "  count_dct={}\n",
    "  duplicates=[]\n",
    "\n",
    "  for i in lst:\n",
    "    if i in count_dct:\n",
    "      count_dct[i]+=1\n",
    "    else:\n",
    "      count_dct[i]=1\n",
    "\n",
    "  for  i in count_dct:\n",
    "    if count_dct[i]>1:\n",
    "      duplicates.append(i)\n",
    "      for _ in range(count_dct[i]-1):\n",
    "        lst.remove(i)\n",
    "\n",
    "  return duplicates, lst\n",
    "\n",
    "duplicates,duplicates_removed=find_and_remove_duplicates(my_list)\n",
    "\n",
    "print(f\"elements that have duplicates in the list are : {duplicates}\")\n",
    "print(f\"Final list with all duplicates removed is : {duplicates_removed}\")\n",
    "\n",
    "\n"
   ]
  },
  {
   "cell_type": "code",
   "execution_count": 34,
   "id": "e60314e2",
   "metadata": {},
   "outputs": [
    {
     "name": "stdout",
     "output_type": "stream",
     "text": [
      "{2: 4}\n"
     ]
    }
   ],
   "source": [
    "d={}\n",
    "\n",
    "d[2]=4\n",
    "\n",
    "print(d)"
   ]
  },
  {
   "cell_type": "code",
   "execution_count": 40,
   "id": "e8f3241a",
   "metadata": {},
   "outputs": [
    {
     "name": "stdout",
     "output_type": "stream",
     "text": [
      "[1, 2, 2, 3, 5]\n"
     ]
    }
   ],
   "source": [
    "my_list = [1, 2, 2, 3, 4, 4, 5]\n",
    "my_list.remove(4)\n",
    "my_list.remove(4)\n",
    "print(my_list)"
   ]
  },
  {
   "cell_type": "code",
   "execution_count": 46,
   "id": "1c7929f0",
   "metadata": {},
   "outputs": [
    {
     "name": "stdout",
     "output_type": "stream",
     "text": [
      "[1, 2, 3, 4, 5]\n"
     ]
    }
   ],
   "source": [
    "def remove_duplicates(lst):\n",
    "    count_dict = {}\n",
    "   \n",
    "\n",
    "    for item in lst:\n",
    "        if item in count_dict:\n",
    "            count_dict[item] += 1\n",
    "        else:\n",
    "            count_dict[item] = 1\n",
    "    #print(count_dict)\n",
    "\n",
    "    for item, count in count_dict.items():\n",
    "        if count > 1:\n",
    "            lst.remove(item)\n",
    "            \n",
    "    \n",
    "    return lst\n",
    "\n",
    "my_list = [1, 2, 2, 3, 4, 4, 5]\n",
    "duplicates_removed = remove_duplicates(my_list)\n",
    "print(duplicates_removed)"
   ]
  },
  {
   "cell_type": "code",
   "execution_count": 21,
   "id": "b5fc656b",
   "metadata": {},
   "outputs": [
    {
     "name": "stdout",
     "output_type": "stream",
     "text": [
      "Type the sentence : Birds are flying back to their nests.\n",
      "7\n"
     ]
    }
   ],
   "source": [
    "#19. Create a Python program that counts the number of words in a sentence using a for loop.\n",
    "\n",
    "\n",
    "sentence=input(\"Type the sentence : \")\n",
    "\n",
    "x=sentence.split()\n",
    "\n",
    "c=0\n",
    "for i in range(len(x)):\n",
    "  c=c+1\n",
    "print(c)"
   ]
  },
  {
   "cell_type": "code",
   "execution_count": 24,
   "id": "a3756648",
   "metadata": {},
   "outputs": [
    {
     "name": "stdout",
     "output_type": "stream",
     "text": [
      "625\n"
     ]
    }
   ],
   "source": [
    "#20. Write a Python program to find the sum of all odd numbers from 1 to 50 using a for loop.\n",
    "s=0\n",
    "for i in range(50):\n",
    "  if (i+1)%2!=0:\n",
    "    s=s+(i+1)\n",
    "\n",
    "print(s)\n"
   ]
  },
  {
   "cell_type": "markdown",
   "id": "8574948f",
   "metadata": {},
   "source": [
    "# Important"
   ]
  },
  {
   "cell_type": "code",
   "execution_count": 25,
   "id": "1b9d3b84",
   "metadata": {},
   "outputs": [
    {
     "name": "stdout",
     "output_type": "stream",
     "text": [
      "4.358898943540673\n"
     ]
    }
   ],
   "source": [
    "#22. Create a Python program that calculates the square root of a number using a for loop.\n",
    "\n",
    "number=19\n",
    "guess=1.0\n",
    "for i in range(1000):\n",
    "  guess=0.5*(guess+number/guess)\n",
    "\n",
    "print(guess)\n"
   ]
  },
  {
   "cell_type": "code",
   "execution_count": 26,
   "id": "d55395c4",
   "metadata": {},
   "outputs": [
    {
     "name": "stdout",
     "output_type": "stream",
     "text": [
      "Enter a number: 19\n",
      "Square root of 19.0 is approximately 4.358899\n"
     ]
    }
   ],
   "source": [
    "def square_root(number, iterations=1000):\n",
    "    # Initial guess for the square root (you can start with any positive number)\n",
    "    guess = 1.0\n",
    "    \n",
    "    for _ in range(iterations):\n",
    "        # Update the guess using the formula for Newton's method\n",
    "        #print(guess)\n",
    "        guess = 0.5 * (guess + number / guess)\n",
    "\n",
    "    return guess\n",
    "\n",
    "# Input number for which you want to calculate the square root\n",
    "input_number = float(input(\"Enter a number: \"))\n",
    "\n",
    "if input_number < 0:\n",
    "    print(\"Square root is undefined for negative numbers.\")\n",
    "else:\n",
    "    # Calculate the square root using the square_root function\n",
    "    result = square_root(input_number)\n",
    "    print(f\"Square root of {input_number} is approximately {result:.6f}\")"
   ]
  },
  {
   "cell_type": "code",
   "execution_count": 27,
   "id": "3baf048e",
   "metadata": {},
   "outputs": [
    {
     "name": "stdout",
     "output_type": "stream",
     "text": [
      "Enter a number: 19\n",
      "Square root of 19.0 is approximately 4.358899\n"
     ]
    }
   ],
   "source": [
    "def square_root(number, tolerance=0.001):\n",
    "    # Initial guess for the square root (you can start with any positive number)\n",
    "    guess1 = 1.0\n",
    "    guess2 = guess1+100*tolerance\n",
    "\n",
    "    while abs(guess1-guess2)>tolerance:\n",
    "      guess1=guess2\n",
    "      # Update the guess using the formula for Newton's method\n",
    "      #print(guess)\n",
    "      guess2 = 0.5 * (guess1 + number / guess1)\n",
    "    \n",
    "    return guess2\n",
    "\n",
    "# Input number for which you want to calculate the square root\n",
    "input_number = float(input(\"Enter a number: \"))\n",
    "\n",
    "if input_number < 0:\n",
    "    print(\"Square root is undefined for negative numbers.\")\n",
    "else:\n",
    "    # Calculate the square root using the square_root function\n",
    "    result = square_root(input_number)\n",
    "    print(f\"Square root of {input_number} is approximately {result:.6f}\")"
   ]
  },
  {
   "cell_type": "markdown",
   "id": "c6ed4613",
   "metadata": {},
   "source": [
    "# Important"
   ]
  },
  {
   "cell_type": "code",
   "execution_count": 29,
   "id": "f2f701ce",
   "metadata": {},
   "outputs": [
    {
     "name": "stdout",
     "output_type": "stream",
     "text": [
      "27\n"
     ]
    }
   ],
   "source": [
    "#23. Write a Python program to find the LCM (Least Common Multiple) of two numbers using a for loop.\n",
    "\n",
    "n1=27\n",
    "n2=9\n",
    "\n",
    "if n1>n2:\n",
    "  n=n2\n",
    "else:\n",
    "  n=n1\n",
    "\n",
    "while True:\n",
    "  if n%n1==0:\n",
    "    if n%n2==0:\n",
    "      break\n",
    "  n=n+1\n",
    "  \n",
    "print(n)\n",
    "\n"
   ]
  },
  {
   "cell_type": "markdown",
   "id": "02938aa4",
   "metadata": {},
   "source": [
    "# if-else:"
   ]
  },
  {
   "cell_type": "code",
   "execution_count": null,
   "id": "081e3b86",
   "metadata": {},
   "outputs": [],
   "source": [
    "\n",
    "\n",
    "\n",
    "\n",
    "\n",
    "\n"
   ]
  },
  {
   "cell_type": "code",
   "execution_count": 47,
   "id": "ca0c4b8a",
   "metadata": {},
   "outputs": [
    {
     "name": "stdout",
     "output_type": "stream",
     "text": [
      "Enter the number : -5\n",
      "the number is negative\n"
     ]
    }
   ],
   "source": [
    "#1. Write a Python program to check if a number is positive, negative, or zero using an if-else statement.\n",
    "\n",
    "n=float(input(\"Enter the number : \"))\n",
    "\n",
    "if n==0:\n",
    "    print(\"the number is zero\")\n",
    "elif n>0:\n",
    "     print(\"the number is positive\")\n",
    "else:\n",
    "     print(\"the number is negative\")\n",
    "    "
   ]
  },
  {
   "cell_type": "code",
   "execution_count": 48,
   "id": "90b442b1",
   "metadata": {},
   "outputs": [
    {
     "name": "stdout",
     "output_type": "stream",
     "text": [
      "Enter the number : 7\n",
      "The number is odd\n"
     ]
    }
   ],
   "source": [
    "#Create a Python program that checks if a given number is even or odd using an if-else statement.\n",
    "\n",
    "\n",
    "n=float(input(\"Enter the number : \"))\n",
    "\n",
    "if n%2==0:\n",
    "    print(\"The number is even\")\n",
    "else:\n",
    "    print(\"The number is odd\")\n",
    "    "
   ]
  },
  {
   "cell_type": "markdown",
   "id": "739490f6",
   "metadata": {},
   "source": [
    "# Important"
   ]
  },
  {
   "cell_type": "code",
   "execution_count": 50,
   "id": "7e9393e0",
   "metadata": {},
   "outputs": [
    {
     "name": "stdout",
     "output_type": "stream",
     "text": [
      "The number is positive but not even.\n"
     ]
    }
   ],
   "source": [
    "#How can you use nested if-else statements in Python, and provide an example?\n",
    "'''\n",
    "if condition1:\n",
    "    # Code to execute if condition1 is True\n",
    "    if condition2:\n",
    "        # Code to execute if both condition1 and condition2 are True\n",
    "    else:\n",
    "        # Code to execute if condition1 is True but condition2 is False\n",
    "else:\n",
    "    # Code to execute if condition1 is False\n",
    "    '''\n",
    "\n",
    "#check if a number is positive and even.\n",
    "\n",
    "n=7\n",
    "\n",
    "if n>0:\n",
    "    if n%2==0:\n",
    "        print(\"The number is positive and even.\")\n",
    "    else:\n",
    "        print(\"The number is positive but not even.\")\n",
    "else:\n",
    "    print(\"The number is negative.\")\n",
    "        "
   ]
  },
  {
   "cell_type": "code",
   "execution_count": 54,
   "id": "0efcad37",
   "metadata": {},
   "outputs": [
    {
     "name": "stdout",
     "output_type": "stream",
     "text": [
      "largest is 9\n"
     ]
    }
   ],
   "source": [
    "#Write a Python program to determine the largest of three numbers using if-else.\n",
    "\n",
    "a,b,c=4,2,9\n",
    "\n",
    "if a>b:\n",
    "    if b>c:\n",
    "        print(f\"largest is {a}\")\n",
    "    elif c>b:\n",
    "        if a>c:\n",
    "             print(f\"largest is {a}\")\n",
    "        elif c>a:\n",
    "             print(f\"largest is {c}\")\n",
    "else:   #b>a\n",
    "    if a>c:\n",
    "         print(f\"largest is {b}\")\n",
    "    elif c>a:\n",
    "        if b>c:\n",
    "             print(f\"largest is {b}\")\n",
    "        else:\n",
    "             print(f\"largest is {c}\")\n",
    "    \n",
    "    \n",
    "    \n",
    "            \n",
    "    \n",
    "    \n",
    "    "
   ]
  },
  {
   "cell_type": "code",
   "execution_count": 55,
   "id": "6e93cb81",
   "metadata": {},
   "outputs": [
    {
     "name": "stdout",
     "output_type": "stream",
     "text": [
      "7\n"
     ]
    }
   ],
   "source": [
    "#Write a Python program that calculates the absolute value of a number using if-else.\n",
    "\n",
    "n=-7\n",
    "\n",
    "if n>0:\n",
    "    print(n)\n",
    "else:\n",
    "    print(-n)"
   ]
  },
  {
   "cell_type": "code",
   "execution_count": 58,
   "id": "b28789e3",
   "metadata": {},
   "outputs": [
    {
     "name": "stdout",
     "output_type": "stream",
     "text": [
      "Enter the character : e\n",
      "The character is a vowel.\n"
     ]
    }
   ],
   "source": [
    "#Create a Python program that checks if a given character is a vowel or consonant using if-else.\n",
    "\n",
    "vowels=['a','e','i','o','u','A','E','I','O','U']\n",
    "\n",
    "char=input(\"Enter the character : \")\n",
    "\n",
    "if char in vowels:\n",
    "    print(\"The character is a vowel.\")\n",
    "else:\n",
    "    print(\"The character is a consonant.\")"
   ]
  },
  {
   "cell_type": "code",
   "execution_count": 59,
   "id": "71226dd8",
   "metadata": {},
   "outputs": [
    {
     "name": "stdout",
     "output_type": "stream",
     "text": [
      "eligible\n"
     ]
    }
   ],
   "source": [
    "#Write a Python program to determine if a user is eligible to vote based on their age using if-else.\n",
    "\n",
    "age=27\n",
    "\n",
    "if age>18:\n",
    "    print(\"eligible\")\n",
    "else:\n",
    "    print(\"not aligible\")"
   ]
  },
  {
   "cell_type": "code",
   "execution_count": 60,
   "id": "a1f29580",
   "metadata": {},
   "outputs": [
    {
     "name": "stdout",
     "output_type": "stream",
     "text": [
      "105.0\n"
     ]
    }
   ],
   "source": [
    "#Create a Python program that calculates the discount amount based on the purchase amount using if-else.\n",
    "\n",
    "purchase_amount=525\n",
    "\n",
    "if purchase_amount<500:\n",
    "    discount_amount=purchase_amount*0.1\n",
    "elif purchase_amount>500:\n",
    "     discount_amount=purchase_amount*0.2\n",
    "elif purchase_amount>1000:\n",
    "    discount_amount=purchase_amount*0.3\n",
    "    \n",
    "print(discount_amount)\n",
    "    "
   ]
  },
  {
   "cell_type": "code",
   "execution_count": 61,
   "id": "22b58ab9",
   "metadata": {},
   "outputs": [
    {
     "name": "stdout",
     "output_type": "stream",
     "text": [
      "within range\n"
     ]
    }
   ],
   "source": [
    "#Write a Python program to check if a number is within a specified range using if-else.\n",
    "\n",
    "n=107\n",
    "lower_bound=100\n",
    "upper_bound=200\n",
    "\n",
    "if lower_bound<n< upper_bound:\n",
    "    print(\"within range\")\n",
    "else:\n",
    "    print(\"Not within range\")\n",
    "    "
   ]
  },
  {
   "cell_type": "code",
   "execution_count": 65,
   "id": "58560359",
   "metadata": {},
   "outputs": [
    {
     "name": "stdout",
     "output_type": "stream",
     "text": [
      "grade :  A+\n"
     ]
    }
   ],
   "source": [
    "#Create a Python program that determines the grade of a student based on their score using if-else.\n",
    "\n",
    "score=80\n",
    "\n",
    "if score>=80:\n",
    "    print(\"grade :  A+\")\n",
    "elif score>=70:\n",
    "    print(\"grade :  A\")\n",
    "else:\n",
    "    print(\"grade :  B\")\n",
    "    \n",
    "    "
   ]
  },
  {
   "cell_type": "code",
   "execution_count": 67,
   "id": "3187ec0c",
   "metadata": {},
   "outputs": [
    {
     "name": "stdout",
     "output_type": "stream",
     "text": [
      "Not empty\n"
     ]
    }
   ],
   "source": [
    "#Write a Python program to check if a string is empty or not using if-else.\n",
    "\n",
    "string=\"a\"\n",
    "\n",
    "if string==\"\":\n",
    "    print(\"empty\")\n",
    "else:\n",
    "    print(\"Not empty\")\n",
    "    "
   ]
  },
  {
   "cell_type": "code",
   "execution_count": 71,
   "id": "4f13da46",
   "metadata": {},
   "outputs": [
    {
     "name": "stdout",
     "output_type": "stream",
     "text": [
      "enter the length of a : 7\n",
      "enter the length of a : 5\n",
      "enter the length of a : 7\n",
      "isosceles\n"
     ]
    }
   ],
   "source": [
    "#Create a Python program that identifies the type of a triangle \n",
    "#(e.g., equilateral, isosceles, or scalene) based on input values using if-else.\n",
    "\n",
    "a,b,c=float(input(\"enter the length of a : \")), float(input(\"enter the length of a : \")),float(input(\"enter the length of a : \"))\n",
    "\n",
    "if a==b and b==c:\n",
    "    print(\"equilateral\")\n",
    "elif (a==b and b!=c) or (a==c and b!=c) or (b==c and b!=a):\n",
    "    print(\"isosceles\")\n",
    "else:\n",
    "    print(\"scalene\")"
   ]
  },
  {
   "cell_type": "markdown",
   "id": "3e420447",
   "metadata": {},
   "source": [
    "# Important"
   ]
  },
  {
   "cell_type": "code",
   "execution_count": 72,
   "id": "8f936326",
   "metadata": {},
   "outputs": [
    {
     "name": "stdout",
     "output_type": "stream",
     "text": [
      "Enter a number between 1-7 : 7\n",
      "Sunday\n"
     ]
    }
   ],
   "source": [
    "\n",
    "# Write a Python program to determine the day of the week based on a user-provided number \n",
    "#using if-else.\n",
    "\n",
    "dict={1:\"Monday\",2:\"Tuesday\",3:\"Wednesday\",4:\"Thursday\",5:\"Friday\",6:\"Saturday\",7:\"Sunday\"}\n",
    "\n",
    "n=int(input(\"Enter a number between 1-7 : \"))\n",
    "\n",
    "if n in dict:\n",
    "    print(f\"{dict[n]}\")"
   ]
  },
  {
   "cell_type": "code",
   "execution_count": 7,
   "id": "a6985f48",
   "metadata": {},
   "outputs": [
    {
     "name": "stdout",
     "output_type": "stream",
     "text": [
      "Enter a number between 1-7 : 2\n",
      "Tuesday\n"
     ]
    }
   ],
   "source": [
    "lst=[\"Monday\",\"Tuesday\",\"Wednesday\",\"Thursday\",\"Friday\",\"Saturday\",\"Sunday\"]\n",
    "\n",
    "n=int(input(\"Enter a number between 1-7 : \"))\n",
    "\n",
    "print(lst[n-1])\n"
   ]
  },
  {
   "cell_type": "markdown",
   "id": "732e2f9e",
   "metadata": {},
   "source": [
    "# Important"
   ]
  },
  {
   "cell_type": "code",
   "execution_count": 74,
   "id": "5c092a0c",
   "metadata": {},
   "outputs": [
    {
     "name": "stdout",
     "output_type": "stream",
     "text": [
      "Enter a year: 2007\n",
      "2007 is not a leap year.\n"
     ]
    }
   ],
   "source": [
    "#Create a Python program that checks if a given year is a leap year using both if-else and a function.\n",
    "\n",
    "def is_leap_year(year):\n",
    "    # Leap years are either divisible by 4 but not by 100, or divisible by 400.\n",
    "    if (year % 4 == 0 and year % 100 != 0) or (year % 400 == 0):\n",
    "        return True\n",
    "    else:\n",
    "        return False\n",
    "\n",
    "# Input year from the user\n",
    "year = int(input(\"Enter a year: \"))\n",
    "\n",
    "# Check if it's a leap year using the is_leap_year function\n",
    "if is_leap_year(year):\n",
    "    print(f\"{year} is a leap year.\")\n",
    "else:\n",
    "    print(f\"{year} is not a leap year.\")"
   ]
  },
  {
   "cell_type": "markdown",
   "id": "18ade728",
   "metadata": {},
   "source": [
    "\n",
    "# Important\n"
   ]
  },
  {
   "cell_type": "code",
   "execution_count": 77,
   "id": "b65b985f",
   "metadata": {},
   "outputs": [
    {
     "name": "stdout",
     "output_type": "stream",
     "text": [
      "x is greater than 5\n"
     ]
    }
   ],
   "source": [
    "#How do you use the \"assert\" statement in Python to add debugging checks within if-else blocks?\n",
    "\n",
    "\n",
    "x = 10\n",
    "\n",
    "if x > 5:\n",
    "    # This condition is met, so it continues executing\n",
    "    assert x < 20, \"x should be less than 20\"\n",
    "    print(\"x is greater than 5\")\n",
    "else:\n",
    "    print(\"x is not greater than 5\")\n"
   ]
  },
  {
   "cell_type": "code",
   "execution_count": 78,
   "id": "4403e848",
   "metadata": {},
   "outputs": [
    {
     "ename": "SyntaxError",
     "evalue": "invalid syntax (74693495.py, line 1)",
     "output_type": "error",
     "traceback": [
      "\u001b[1;36m  Cell \u001b[1;32mIn[78], line 1\u001b[1;36m\u001b[0m\n\u001b[1;33m    Create a Python program that determines the eligibility of a person for a senior citizen discount based on age using if-else.\u001b[0m\n\u001b[1;37m           ^\u001b[0m\n\u001b[1;31mSyntaxError\u001b[0m\u001b[1;31m:\u001b[0m invalid syntax\n"
     ]
    }
   ],
   "source": []
  },
  {
   "cell_type": "code",
   "execution_count": 79,
   "id": "222ba3d8",
   "metadata": {},
   "outputs": [
    {
     "name": "stdout",
     "output_type": "stream",
     "text": [
      "still not a senior citizen\n"
     ]
    }
   ],
   "source": [
    "#Create a Python program that determines the eligibility of a person for a senior citizen \n",
    "#discount based on age using if-else.\n",
    "\n",
    "age=56\n",
    "\n",
    "if age>60:\n",
    "    print(\"senior citizen\")\n",
    "else:\n",
    "     print(\"still not a senior citizen\")\n",
    "    "
   ]
  },
  {
   "cell_type": "markdown",
   "id": "5f6ad717",
   "metadata": {},
   "source": [
    "# Important"
   ]
  },
  {
   "cell_type": "code",
   "execution_count": 84,
   "id": "7dcd953f",
   "metadata": {},
   "outputs": [
    {
     "name": "stdout",
     "output_type": "stream",
     "text": [
      "Enter a character: p\n",
      "The character 'p' is lowercase.\n"
     ]
    }
   ],
   "source": [
    "#Write a Python program to categorize a given character as uppercase, lowercase, \n",
    "#or neither using if-else.\n",
    "\n",
    "# Input a character from the user\n",
    "character = input(\"Enter a character: \")\n",
    "\n",
    "# Check if the character is a letter\n",
    "if character.isalpha():\n",
    "    if character.isupper():\n",
    "        print(f\"The character '{character}' is uppercase.\")\n",
    "    elif character.islower():\n",
    "        print(f\"The character '{character}' is lowercase.\")\n",
    "else:\n",
    "    print(f\"The character '{character}' is neither uppercase nor lowercase.\")"
   ]
  },
  {
   "cell_type": "markdown",
   "id": "003f6628",
   "metadata": {},
   "source": [
    "# Important"
   ]
  },
  {
   "cell_type": "code",
   "execution_count": 87,
   "id": "a5436948",
   "metadata": {},
   "outputs": [
    {
     "name": "stdout",
     "output_type": "stream",
     "text": [
      "Enter the value of a : 1\n",
      "Enter the value of b : 4\n",
      "Enter the value of c : 5\n",
      "Two distinct complex roots\n",
      "the roots are : \n",
      "root1= (-2+1j)\n",
      "root2= (-2-1j)\n"
     ]
    }
   ],
   "source": [
    "#Write a Python program to determine the roots of a quadratic equation using if-else.\n",
    "\n",
    "\n",
    "a=float(input(\"Enter the value of a : \"))\n",
    "b=float(input(\"Enter the value of b : \"))\n",
    "c=float(input(\"Enter the value of c : \"))\n",
    "\n",
    "discriminant=b*b-4*a*c\n",
    "\n",
    "if discriminant>0:\n",
    "    print(\"Two distinct real roots\")\n",
    "    root1=(-b+(discriminant)**0.5)/2.0*a\n",
    "    root2=(-b-(discriminant)**0.5)/2.0*a\n",
    "    print(f\"root1= {root1}\")\n",
    "    print(f\"root2= {root2}\")\n",
    "elif discriminant<0:\n",
    "    print(\"Two distinct complex roots\")\n",
    "    real_part=-b/2*a\n",
    "    imaginary_part=(-discriminant)**0.5/2*a\n",
    "    root1=complex(real_part,imaginary_part)\n",
    "    root2=complex(real_part,-imaginary_part)\n",
    "    print(f\"the roots are : \")\n",
    "    print(f\"root1= {root1}\")\n",
    "    print(f\"root2= {root2}\")\n",
    "    \n",
    "else:\n",
    "    print(\"One real root\")\n",
    "    root=(-b/2*a)\n",
    "    print(f\"Root is {root}\")"
   ]
  },
  {
   "cell_type": "code",
   "execution_count": 89,
   "id": "daa90bf8",
   "metadata": {},
   "outputs": [
    {
     "name": "stdout",
     "output_type": "stream",
     "text": [
      "Century year\n"
     ]
    }
   ],
   "source": [
    "#Create a Python program that checks if a given year is a century year or not using if-else.\n",
    "\n",
    "year=2000\n",
    "\n",
    "if year%100==0:\n",
    "    print(\"Century year\")\n",
    "else:\n",
    "     print(\"Not a century year\")\n",
    "    "
   ]
  },
  {
   "cell_type": "markdown",
   "id": "5db4e096",
   "metadata": {},
   "source": [
    "# Important"
   ]
  },
  {
   "cell_type": "code",
   "execution_count": 92,
   "id": "58197ade",
   "metadata": {},
   "outputs": [
    {
     "name": "stdout",
     "output_type": "stream",
     "text": [
      "Not a perfect square\n"
     ]
    }
   ],
   "source": [
    "#Write a Python program to determine if a given number is a perfect square using if-else.\n",
    "\n",
    "n=78\n",
    "\n",
    "for i in range(n):\n",
    "    if n==i*i:\n",
    "        print(\"perfect square\")\n",
    "        break\n",
    "else:\n",
    "    print(\"Not a perfect square\")"
   ]
  },
  {
   "cell_type": "markdown",
   "id": "eb03dc61",
   "metadata": {},
   "source": [
    "# Important"
   ]
  },
  {
   "cell_type": "code",
   "execution_count": 95,
   "id": "75d20af6",
   "metadata": {},
   "outputs": [
    {
     "name": "stdout",
     "output_type": "stream",
     "text": [
      "Current value of i: 1\n",
      "Current value of i: 2\n",
      "Current value of i: 4\n",
      "Current value of i: 5\n",
      "\n",
      "Current value of i: 1\n",
      "Current value of i: 2\n",
      "Current value of i: 3\n"
     ]
    }
   ],
   "source": [
    "# Explain the purpose of the \"continue\" and \"break\" statements within if-else loops.\n",
    "\n",
    "for i in range(1, 6):\n",
    "    if i == 3:\n",
    "        continue  # Skip iteration when i is 3\n",
    "    print(f\"Current value of i: {i}\")\n",
    "print()    \n",
    "    \n",
    "for i in range(1, 6):\n",
    "    if i == 4:\n",
    "        break  # Exit the loop when i is 4\n",
    "    print(f\"Current value of i: {i}\")"
   ]
  },
  {
   "cell_type": "code",
   "execution_count": null,
   "id": "42aa7d9e",
   "metadata": {},
   "outputs": [],
   "source": [
    "\n",
    "\n",
    "\n"
   ]
  },
  {
   "cell_type": "code",
   "execution_count": 98,
   "id": "ae60ca13",
   "metadata": {},
   "outputs": [
    {
     "name": "stdout",
     "output_type": "stream",
     "text": [
      "Enter your weight in kilograms: 52\n",
      "Enter your height in meters: 1.67\n",
      "Your BMI is: 18.65\n",
      "Category: Normal Weight\n"
     ]
    }
   ],
   "source": [
    "#Create a Python program that calculates the BMI (Body Mass Index) \n",
    "#of a person based on their weight and height using if-else.\n",
    "\n",
    "# Input weight and height from the user\n",
    "weight_kg = float(input(\"Enter your weight in kilograms: \"))\n",
    "height_m = float(input(\"Enter your height in meters: \"))\n",
    "\n",
    "# Calculate BMI\n",
    "bmi = weight_kg / (height_m ** 2)\n",
    "\n",
    "# Categorize BMI using if-else statements\n",
    "if bmi < 18.5:\n",
    "    category = \"Underweight\"\n",
    "elif 18.5 <= bmi < 24.9:\n",
    "    category = \"Normal Weight\"\n",
    "elif 25 <= bmi < 29.9:\n",
    "    category = \"Overweight\"\n",
    "else:\n",
    "    category = \"Obese\"\n",
    "\n",
    "# Display the BMI and category\n",
    "print(f\"Your BMI is: {bmi:.2f}\")\n",
    "print(f\"Category: {category}\")"
   ]
  },
  {
   "cell_type": "code",
   "execution_count": 101,
   "id": "592be5d2",
   "metadata": {},
   "outputs": [
    {
     "name": "stdout",
     "output_type": "stream",
     "text": [
      "[2, 4, 6, 8]\n"
     ]
    }
   ],
   "source": [
    "#How can you use the \"filter()\" function with if-else statements to filter elements from a list?\n",
    "l=[1,2,3,4,5,6,7,8]\n",
    "\n",
    "def even_number(n):\n",
    "    if n%2==0:\n",
    "        return True\n",
    "    else:\n",
    "        return False\n",
    "    \n",
    "#filtering even numbers\n",
    "x=list(filter(even_number, l ))\n",
    "print(x)\n"
   ]
  },
  {
   "cell_type": "code",
   "execution_count": 106,
   "id": "934d8bef",
   "metadata": {},
   "outputs": [
    {
     "name": "stdout",
     "output_type": "stream",
     "text": [
      "prime\n"
     ]
    }
   ],
   "source": [
    "#Write a Python program to determine if a given number is prime or not using if-else.\n",
    "\n",
    "n=23\n",
    "\n",
    "for i in range(2,n):\n",
    "    if n%i==0:\n",
    "        print(\"not prime\")\n",
    "        break\n",
    "else:\n",
    "    print(\"prime\")"
   ]
  },
  {
   "cell_type": "markdown",
   "id": "e26faa46",
   "metadata": {},
   "source": [
    "# Map :-\n"
   ]
  },
  {
   "cell_type": "code",
   "execution_count": 107,
   "id": "f1b64165",
   "metadata": {},
   "outputs": [
    {
     "ename": "SyntaxError",
     "evalue": "invalid syntax (1080253915.py, line 1)",
     "output_type": "error",
     "traceback": [
      "\u001b[1;36m  Cell \u001b[1;32mIn[107], line 1\u001b[1;36m\u001b[0m\n\u001b[1;33m    Explain the purpose of the `map()` function in Python and provide an example of how it can be used to apply a function to each element of an iterable.\u001b[0m\n\u001b[1;37m            ^\u001b[0m\n\u001b[1;31mSyntaxError\u001b[0m\u001b[1;31m:\u001b[0m invalid syntax\n"
     ]
    }
   ],
   "source": [
    "\n"
   ]
  },
  {
   "cell_type": "code",
   "execution_count": 108,
   "id": "798051f1",
   "metadata": {},
   "outputs": [],
   "source": [
    "#Explain the purpose of the `map()` function in Python and provide an example of how \n",
    "#it can be used to apply a function to each element of an iterable.\n",
    "\n",
    "`"
   ]
  },
  {
   "cell_type": "code",
   "execution_count": 109,
   "id": "eafd8603",
   "metadata": {},
   "outputs": [
    {
     "name": "stdout",
     "output_type": "stream",
     "text": [
      "[1, 4, 9, 16]\n"
     ]
    }
   ],
   "source": [
    "#Write a Python program that uses the `map()` function to square each element of a list of numbers.\n",
    "\n",
    "l=[1,2,3,4]\n",
    "x=list(map(lambda x:x**2, l))\n",
    "print(x)"
   ]
  },
  {
   "cell_type": "markdown",
   "id": "36a71331",
   "metadata": {},
   "source": [
    "# Important"
   ]
  },
  {
   "cell_type": "code",
   "execution_count": 116,
   "id": "ef782aba",
   "metadata": {},
   "outputs": [
    {
     "name": "stdout",
     "output_type": "stream",
     "text": [
      "[1, 4, 9, 16]\n",
      "[1, 4, 9, 16]\n",
      "[4, 16]\n"
     ]
    },
    {
     "data": {
      "text/plain": [
       "'We use map() when we have a simple transformation operation to apply to all elements \\nin an iterable. \\n\\nUse list comprehensions when you want to filter elements based on a condition and then apply \\na transformation. '"
      ]
     },
     "execution_count": 116,
     "metadata": {},
     "output_type": "execute_result"
    }
   ],
   "source": [
    "#How does the `map()` function differ from a list comprehension in Python, \n",
    "#and when would you choose one over the other?\n",
    "\n",
    "\n",
    "l=[1,2,3,4]\n",
    "x=list(map(lambda x:x**2, l))\n",
    "print(x)\n",
    "\n",
    "\n",
    "\n",
    "y=[i**2 for i in l]\n",
    "print(y)\n",
    "\n",
    "y=[i**2 for i in l if i%2==0]\n",
    "print(y)\n",
    "\n",
    "'''We use map() when we have a simple transformation operation to apply to all elements \n",
    "in an iterable. \n",
    "\n",
    "Use list comprehensions when you want to filter elements based on a condition and then apply \n",
    "a transformation. '''"
   ]
  },
  {
   "cell_type": "markdown",
   "id": "363b8502",
   "metadata": {},
   "source": [
    "# Important"
   ]
  },
  {
   "cell_type": "code",
   "execution_count": 117,
   "id": "b9da864f",
   "metadata": {},
   "outputs": [
    {
     "name": "stdout",
     "output_type": "stream",
     "text": [
      "Uppercase Names: ['ALICE', 'BOB', 'CHARLIE', 'DAVID', 'EVE']\n"
     ]
    }
   ],
   "source": [
    "#Create a Python program that uses the `map()` function to convert a list of names to uppercase.\n",
    "\n",
    "\n",
    "names = [\"Alice\", \"Bob\", \"Charlie\", \"David\", \"Eve\"]\n",
    "\n",
    "def convert_to_uppercase(name):\n",
    "    return name.upper()\n",
    "\n",
    "\n",
    "uppercase_names = list(map(convert_to_uppercase, names))\n",
    "\n",
    "\n",
    "print(\"Uppercase Names:\", uppercase_names)"
   ]
  },
  {
   "cell_type": "code",
   "execution_count": null,
   "id": "78b9ad44",
   "metadata": {},
   "outputs": [],
   "source": []
  },
  {
   "cell_type": "markdown",
   "id": "94dad26e",
   "metadata": {},
   "source": [
    "# Important"
   ]
  },
  {
   "cell_type": "code",
   "execution_count": 8,
   "id": "d30d6a65",
   "metadata": {},
   "outputs": [
    {
     "name": "stdout",
     "output_type": "stream",
     "text": [
      "[3, 4, 2, 5]\n"
     ]
    }
   ],
   "source": [
    "#Write a Python program that uses the `map()` function to calculate \n",
    "#the length of each word in a list of strings.\n",
    "\n",
    "l=['acb','bcde','hj','ghkll']\n",
    "\n",
    "def length(text):\n",
    "    len=0\n",
    "    s=text\n",
    "    while True:\n",
    "        if s==\"\":\n",
    "            break\n",
    "        len=len+1\n",
    "        s=s[1::]\n",
    "    return len\n",
    "        \n",
    "        \n",
    "        \n",
    "x=list(map(length,l))\n",
    "print(x)\n",
    "    "
   ]
  },
  {
   "cell_type": "markdown",
   "id": "6532fef5",
   "metadata": {},
   "source": [
    "# Important"
   ]
  },
  {
   "cell_type": "code",
   "execution_count": 13,
   "id": "a49c4bf5",
   "metadata": {},
   "outputs": [
    {
     "name": "stdout",
     "output_type": "stream",
     "text": [
      "[3, 4, 2, 5, 5, 6]\n"
     ]
    }
   ],
   "source": [
    "#How can you use the `map()` function to apply a custom function to elements \n",
    "#of multiple lists simultaneously in Python?\n",
    "\n",
    "\n",
    "l=['acb','bcde','hj','ghkll']\n",
    "l1=[\"jkhdj\",\"hujshk\"]\n",
    "\n",
    "def length(text):\n",
    "    len=0\n",
    "    s=text\n",
    "    while True:\n",
    "        if s==\"\":\n",
    "            break\n",
    "        len=len+1\n",
    "        s=s[1::]\n",
    "    return len\n",
    "        \n",
    "        \n",
    "        \n",
    "x=list(map(length,l+l1))\n",
    "print(x)\n"
   ]
  },
  {
   "cell_type": "markdown",
   "id": "3814628c",
   "metadata": {},
   "source": [
    "# Important"
   ]
  },
  {
   "cell_type": "code",
   "execution_count": 14,
   "id": "0ce380c8",
   "metadata": {},
   "outputs": [
    {
     "name": "stdout",
     "output_type": "stream",
     "text": [
      "[32.97, 29.950000000000003, 16.98, 51.96]\n"
     ]
    }
   ],
   "source": [
    "def calculate_total_cost(price, quantity):\n",
    "    return price * quantity\n",
    "\n",
    "# Lists of prices and quantities for products\n",
    "prices = [10.99, 5.99, 8.49, 12.99]\n",
    "quantities = [3, 5, 2, 4]\n",
    "\n",
    "# Use map() with zip() to calculate the total cost for each product\n",
    "total_costs = map(calculate_total_cost, prices, quantities)\n",
    "\n",
    "# Convert the result to a list if needed\n",
    "total_costs_list = list(total_costs)\n",
    "\n",
    "# total_costs_list now contains the total cost for each product\n",
    "print(total_costs_list)"
   ]
  },
  {
   "cell_type": "code",
   "execution_count": null,
   "id": "0cf347d0",
   "metadata": {},
   "outputs": [],
   "source": []
  },
  {
   "cell_type": "code",
   "execution_count": 16,
   "id": "2806b2a3",
   "metadata": {},
   "outputs": [
    {
     "name": "stdout",
     "output_type": "stream",
     "text": [
      "[32.0, 212.0, 122.0, 104.0]\n"
     ]
    }
   ],
   "source": [
    "#Create a Python program that uses `map()` to convert \n",
    "#a list of temperatures from Celsius to Fahrenheit.\n",
    "\n",
    "celcius=[0,100,50,40]\n",
    "\n",
    "def celsius_to_fehrenheit(celsius):\n",
    "    fahrenheit=(9/5)*celsius+32\n",
    "    return fahrenheit\n",
    "\n",
    "x=map(celsius_to_fehrenheit,celcius)\n",
    "\n",
    "print(list(x))"
   ]
  },
  {
   "cell_type": "markdown",
   "id": "02a56feb",
   "metadata": {},
   "source": [
    "# Important"
   ]
  },
  {
   "cell_type": "code",
   "execution_count": 20,
   "id": "6d35ff72",
   "metadata": {},
   "outputs": [
    {
     "name": "stdout",
     "output_type": "stream",
     "text": [
      "[2, 4, 8, 9]\n"
     ]
    }
   ],
   "source": [
    "#Write a Python program that uses the `map()` \n",
    "#function to round each element of a list of floating-point numbers to the nearest integer.\n",
    "\n",
    "l=[2.35,3.58,7.56,8.997]\n",
    "\n",
    "def rounding(number):\n",
    "    return round(number)\n",
    "\n",
    "y=list(map(rounding,l))\n",
    "\n",
    "print(y)\n",
    "    \n"
   ]
  },
  {
   "cell_type": "code",
   "execution_count": 21,
   "id": "a24e88cc",
   "metadata": {},
   "outputs": [
    {
     "name": "stdout",
     "output_type": "stream",
     "text": [
      "[2, 4, 8, 9]\n"
     ]
    }
   ],
   "source": [
    "l=[2.35,3.58,7.56,8.997]\n",
    "\n",
    "y=list(map(lambda x: round(x),l))\n",
    "\n",
    "print(y)\n",
    "    "
   ]
  },
  {
   "cell_type": "markdown",
   "id": "f273a966",
   "metadata": {},
   "source": [
    "# Reduce"
   ]
  },
  {
   "cell_type": "code",
   "execution_count": null,
   "id": "d0267dc2",
   "metadata": {},
   "outputs": [],
   "source": [
    ".\n"
   ]
  },
  {
   "cell_type": "code",
   "execution_count": 25,
   "id": "1565a43b",
   "metadata": {},
   "outputs": [
    {
     "name": "stdout",
     "output_type": "stream",
     "text": [
      "24\n"
     ]
    }
   ],
   "source": [
    "#What is the `reduce()` function in Python, and what module should you import to use it? \n",
    "#Provide an example of its basic usage.\n",
    "\n",
    "'''Reduce function in Python is a built-in function to apply any custom function\n",
    "cumulatively on the elements of an iterable object and reduce the elements\n",
    "into an acculmulated result.\n",
    "\n",
    "It falls under functools module.'''\n",
    "\n",
    "import functools\n",
    "\n",
    "lst=[1,2,3,4]\n",
    "\n",
    "result=functools.reduce(lambda x,y: x*y, lst)\n",
    "print(result)\n",
    "\n",
    "'''The above code cumulatively takes product of the elements of the list.'''"
   ]
  },
  {
   "cell_type": "code",
   "execution_count": null,
   "id": "2c5e4330",
   "metadata": {},
   "outputs": [],
   "source": []
  },
  {
   "cell_type": "code",
   "execution_count": 32,
   "id": "7ebfab96",
   "metadata": {},
   "outputs": [
    {
     "name": "stdout",
     "output_type": "stream",
     "text": [
      "24\n",
      "24\n"
     ]
    }
   ],
   "source": [
    "#Write a Python program that uses the `reduce()` function \n",
    "#to find the product of all elements in a list\n",
    "\n",
    "import functools\n",
    "\n",
    "lst=[1,2,3,4]\n",
    "\n",
    "def product(x,y):\n",
    "    return x*y\n",
    "\n",
    "result=functools.reduce(product,lst)\n",
    "\n",
    "print(f\"{result:.0f}\")\n",
    "\n",
    "\n",
    "result=functools.reduce(lambda x,y: x*y, lst)\n",
    "print(result)"
   ]
  },
  {
   "cell_type": "code",
   "execution_count": 33,
   "id": "c93cb4ca",
   "metadata": {},
   "outputs": [
    {
     "name": "stdout",
     "output_type": "stream",
     "text": [
      "466\n"
     ]
    }
   ],
   "source": [
    "#Create a Python program that uses `reduce()` to find the maximum element in a list of numbers.\n",
    "\n",
    "import functools\n",
    "\n",
    "def greater(x,y):\n",
    "    if x>y:\n",
    "        return x\n",
    "    else:\n",
    "        return y\n",
    "\n",
    "lst=[12,56,85,96,466,5,3]\n",
    "\n",
    "result=functools.reduce(greater,lst)\n",
    "\n",
    "print(result)\n",
    "    \n",
    "    "
   ]
  },
  {
   "cell_type": "code",
   "execution_count": 36,
   "id": "a6b17299",
   "metadata": {},
   "outputs": [
    {
     "name": "stdout",
     "output_type": "stream",
     "text": [
      "happy journey my friend\n"
     ]
    }
   ],
   "source": [
    "#How can you use the `reduce()` function to concatenate a list of strings into a single string?\n",
    "\n",
    "import functools\n",
    "\n",
    "def concatenate(string1,string2):\n",
    "    return string1+string2\n",
    "\n",
    "lst=['hap','py jour','ney my friend']\n",
    "\n",
    "output=functools.reduce(concatenate,lst)\n",
    "print(output)"
   ]
  },
  {
   "cell_type": "code",
   "execution_count": 38,
   "id": "c63c2b71",
   "metadata": {},
   "outputs": [
    {
     "name": "stdout",
     "output_type": "stream",
     "text": [
      "120\n"
     ]
    }
   ],
   "source": [
    "#Write a Python program that calculates the factorial of a number using the `reduce()` function.\n",
    "\n",
    "import functools\n",
    "\n",
    "def product_tail(n1,n2):\n",
    "    return n1*n2\n",
    "\n",
    "\n",
    "n=5\n",
    "\n",
    "lst=[]\n",
    "for i in range(1,n+1):\n",
    "    lst.append(i)\n",
    "    \n",
    "result=functools.reduce(product_tail,lst)\n",
    "\n",
    "print(result)"
   ]
  },
  {
   "cell_type": "code",
   "execution_count": 39,
   "id": "4c0e20ae",
   "metadata": {},
   "outputs": [
    {
     "name": "stdout",
     "output_type": "stream",
     "text": [
      "120\n"
     ]
    }
   ],
   "source": [
    "\n",
    "import functools\n",
    "\n",
    "def product_tail(n1,n2):\n",
    "    return n1*n2\n",
    "\n",
    "\n",
    "n=5\n",
    "\n",
    "lst=[i for i in range(1,n+1)]\n",
    "\n",
    "    \n",
    "result=functools.reduce(product_tail,lst)\n",
    "\n",
    "print(result)"
   ]
  },
  {
   "cell_type": "markdown",
   "id": "4bb78ad8",
   "metadata": {},
   "source": [
    "# gcd"
   ]
  },
  {
   "cell_type": "code",
   "execution_count": 45,
   "id": "ec646d34",
   "metadata": {},
   "outputs": [
    {
     "name": "stdout",
     "output_type": "stream",
     "text": [
      "13\n"
     ]
    }
   ],
   "source": [
    "#Create a Python program that uses `reduce()` to find \n",
    "#the GCD (Greatest Common Divisor) of a list of numbers.\n",
    "\n",
    "import functools\n",
    "\n",
    "def gcd(x,y):\n",
    "    if x>y:\n",
    "        n=y\n",
    "    else:\n",
    "        n=x\n",
    "    gcd=1\n",
    "    for i in range(1,n+1):\n",
    "        if x%i==0:\n",
    "            if y%i==0:\n",
    "                if i>gcd:\n",
    "                    gcd=i\n",
    "    return gcd\n",
    "\n",
    "lst=[52,39,78,156]\n",
    "\n",
    "result=functools.reduce(gcd,lst)\n",
    "\n",
    "print(result)"
   ]
  },
  {
   "cell_type": "code",
   "execution_count": null,
   "id": "cab35478",
   "metadata": {},
   "outputs": [],
   "source": []
  },
  {
   "cell_type": "code",
   "execution_count": 53,
   "id": "a1a06366",
   "metadata": {},
   "outputs": [
    {
     "name": "stdout",
     "output_type": "stream",
     "text": [
      "10\n"
     ]
    }
   ],
   "source": [
    "\n",
    "#Write a Python program that uses the `reduce()` function to find\n",
    "#the sum of the digits of a given number.\n",
    "\n",
    "def digits(number):\n",
    "    number=str(number)\n",
    "    l=[]\n",
    "    for i in number:\n",
    "        l.append(int(i))\n",
    "    return l\n",
    "\n",
    "lst=digits(1234)\n",
    "\n",
    "result=functools.reduce(lambda x,y: x+y,lst)\n",
    "\n",
    "print(result)\n",
    "        \n"
   ]
  },
  {
   "cell_type": "markdown",
   "id": "51c52265",
   "metadata": {},
   "source": [
    "# Filter :-"
   ]
  },
  {
   "cell_type": "code",
   "execution_count": null,
   "id": "4b93d2b9",
   "metadata": {},
   "outputs": [],
   "source": []
  },
  {
   "cell_type": "code",
   "execution_count": 54,
   "id": "4c2f8b65",
   "metadata": {},
   "outputs": [
    {
     "name": "stdout",
     "output_type": "stream",
     "text": [
      "[2, 4, 6, 8, 10]\n"
     ]
    }
   ],
   "source": [
    "#Explain the purpose of the `filter()` function in Python and provide\n",
    "#an example of how it can be used to filter elements from an iterable.\n",
    "\n",
    "lst=[1,2,3,4,5,6,7,8,9,10]\n",
    "\n",
    "x=filter(lambda x: x%2==0,lst)\n",
    "\n",
    "print(list(x))\n",
    "\n",
    "\n",
    "'''The filter() function in Python is used to filter elements from an iterable \n",
    "(e.g., a list, tuple, or any other iterable) based on a specified condition. \n",
    "It creates a new iterable containing only the elements that satisfy the given condition.\n",
    "'''"
   ]
  },
  {
   "cell_type": "code",
   "execution_count": 55,
   "id": "7db07a4f",
   "metadata": {},
   "outputs": [
    {
     "name": "stdout",
     "output_type": "stream",
     "text": [
      "[2, 4, 6, 8, 10]\n"
     ]
    }
   ],
   "source": [
    "#Write a Python program that uses the `filter()` function\n",
    "#to select even numbers from a list of integers.\n",
    "\n",
    "lst=[1,2,3,4,5,6,7,8,9,10]\n",
    "\n",
    "x=filter(lambda x: x%2==0,lst)\n",
    "\n",
    "print(list(x))\n"
   ]
  },
  {
   "cell_type": "code",
   "execution_count": 58,
   "id": "4fdfff47",
   "metadata": {},
   "outputs": [
    {
     "name": "stdout",
     "output_type": "stream",
     "text": [
      "['jacky', 'jit']\n"
     ]
    }
   ],
   "source": [
    "#Create a Python program that uses the `filter()` function to select names that start with \n",
    "#a specific letter from a list of strings.\n",
    "\n",
    "lst=['santanu','susanta','pradyut','jacky','jit','suhas','tarun']\n",
    "\n",
    "output=filter(lambda x:x[0]=='j',lst)\n",
    "print(list(output))"
   ]
  },
  {
   "cell_type": "markdown",
   "id": "b60bd4c9",
   "metadata": {},
   "source": [
    "# Important"
   ]
  },
  {
   "cell_type": "code",
   "execution_count": 71,
   "id": "ecf92501",
   "metadata": {},
   "outputs": [
    {
     "name": "stdout",
     "output_type": "stream",
     "text": [
      "[2, 3, 5, 7]\n"
     ]
    }
   ],
   "source": [
    "#Write a Python program that uses the `filter()` function to select \n",
    "#prime numbers from a list of integers.\n",
    "\n",
    "lst=[0,1,2,3,4,5,6,7,8,9,10]\n",
    "\n",
    "\n",
    "result=filter(lambda x: (x!=0 and x!=1) and all(x%i!=0 for i in range(2,x)),lst)\n",
    "\n",
    "print(list(result))"
   ]
  },
  {
   "cell_type": "code",
   "execution_count": 72,
   "id": "0e5c2b39",
   "metadata": {},
   "outputs": [
    {
     "name": "stdout",
     "output_type": "stream",
     "text": [
      "[2, 3, 5, 7]\n"
     ]
    }
   ],
   "source": [
    "def is_prime(n):\n",
    "    if n<=1:\n",
    "        return False\n",
    "    else:\n",
    "        for i in range(2,n):\n",
    "            if n%i==0:\n",
    "                break\n",
    "        else:\n",
    "            return True\n",
    "\n",
    "lst=[0,1,2,3,4,5,6,7,8,9,10]\n",
    "\n",
    "result=filter(is_prime ,lst)\n",
    "print(list(result))\n",
    "    \n",
    "    "
   ]
  },
  {
   "cell_type": "markdown",
   "id": "2eb17c61",
   "metadata": {},
   "source": [
    "# Important"
   ]
  },
  {
   "cell_type": "code",
   "execution_count": 75,
   "id": "88cdfbab",
   "metadata": {},
   "outputs": [
    {
     "name": "stdout",
     "output_type": "stream",
     "text": [
      "[1, 2, 3]\n"
     ]
    }
   ],
   "source": [
    "#How can you use the `filter()` function to remove None values from a list in Python?\n",
    "\n",
    "lst=[1,None,2,None,3]\n",
    "\n",
    "x=filter(lambda x:x is not None,lst)\n",
    "\n",
    "print(list(x))"
   ]
  },
  {
   "cell_type": "code",
   "execution_count": 76,
   "id": "b5391a13",
   "metadata": {},
   "outputs": [
    {
     "name": "stdout",
     "output_type": "stream",
     "text": [
      "['cbdg', 'efgh']\n"
     ]
    }
   ],
   "source": [
    "#Create a Python program that uses `filter()` to select words longer than \n",
    "#a certain length from a list of strings.\n",
    "\n",
    "lst=['abc','cbdg','as','rts','efgh']\n",
    "\n",
    "x=list(filter(lambda x:len(x)>3,lst))\n",
    "print(x)\n"
   ]
  },
  {
   "cell_type": "code",
   "execution_count": 77,
   "id": "b2e491c6",
   "metadata": {},
   "outputs": [
    {
     "name": "stdout",
     "output_type": "stream",
     "text": [
      "[4, 5, 6, 7, 8, 9, 10]\n"
     ]
    }
   ],
   "source": [
    "\n",
    "\n",
    "#Write a Python program that uses the `filter()` function to select elements greater \n",
    "#than a specified threshold from a list of values.\n",
    "\n",
    "lst=[1,2,3,4,5,6,7,8,9,10]\n",
    "\n",
    "x=list(filter(lambda x:x>3,lst))\n",
    "print(x)\n"
   ]
  },
  {
   "cell_type": "markdown",
   "id": "ad0dd177",
   "metadata": {},
   "source": [
    "# Recursion"
   ]
  },
  {
   "cell_type": "code",
   "execution_count": null,
   "id": "4d477626",
   "metadata": {},
   "outputs": [],
   "source": [
    "#Explain the concept of recursion in Python. How does it differ from iteration?\n",
    "\n",
    "\n",
    "'''Recursion is a programming technique where a function calls itself in order to solve a problem.\n",
    " Recursive functions are often used to solve problems that can be broken down into smaller, \n",
    " similar subproblems. \n",
    "A recursive function typically consists of two parts:\n",
    "\n",
    "    Base Case(s): These are the termination conditions that specify when the recursion should stop. \n",
    "    Without base cases, the recursion would continue indefinitely, eventually leading to a stack overflow.\n",
    "\n",
    "    Recursive Case(s): These are the conditions under which the function calls itself with \n",
    "    modified arguments, bringing the problem closer to the base case(s). \n",
    "    Recursive cases gradually reduce the problem \n",
    "    into simpler instances until it reaches the base case.\n",
    "    \n",
    "    \n",
    "    \n",
    "Recursion: It involves function calls.\n",
    "               \n",
    "Iteration: It uses loop constructs (e.g., for and while loops) to repeatedly execute a block of code.\n",
    "    \n",
    "    \n",
    "Recursion: Recursive approaches are well-suited for problems that can be naturally divided \n",
    "into smaller, similar subproblems.\n",
    "        \n",
    "\n",
    "Iteration: Iterative approaches are suitable for a wide range of tasks\n",
    "and are the default choice for most looping scenarios.\n",
    "'''"
   ]
  },
  {
   "cell_type": "code",
   "execution_count": 79,
   "id": "263c9c7a",
   "metadata": {},
   "outputs": [
    {
     "name": "stdout",
     "output_type": "stream",
     "text": [
      "Enter a number : 5\n",
      "factorial of 5 is 120\n"
     ]
    }
   ],
   "source": [
    "\n",
    "# Write a Python program to calculate the factorial of a number using recursion.\n",
    "\n",
    "def factorial(n):\n",
    "    if n==1:\n",
    "        return 1\n",
    "    else:\n",
    "        return n*factorial(n-1)\n",
    "    \n",
    "n=int(input(\"Enter a number : \"))\n",
    "result=factorial(n)\n",
    "\n",
    "print(f\"factorial of {n} is {result}\")\n",
    "\n"
   ]
  },
  {
   "cell_type": "code",
   "execution_count": 87,
   "id": "e61be579",
   "metadata": {},
   "outputs": [
    {
     "name": "stdout",
     "output_type": "stream",
     "text": [
      "Enter n : 7\n",
      "13\n"
     ]
    }
   ],
   "source": [
    "#Create a recursive Python function to find the nth Fibonacci number.\n",
    "\n",
    "def fibonacci(n):\n",
    "    if n==0:\n",
    "        return 0\n",
    "    elif n==1:\n",
    "        return 1\n",
    "    else:\n",
    "        return fibonacci(n-1)+fibonacci(n-2)\n",
    "    \n",
    "n=int(input(\"Enter n : \"))\n",
    "\n",
    "print(fibonacci(n))\n",
    "      \n",
    "\n"
   ]
  },
  {
   "cell_type": "code",
   "execution_count": 1,
   "id": "922358a0",
   "metadata": {},
   "outputs": [
    {
     "name": "stdout",
     "output_type": "stream",
     "text": [
      "10\n"
     ]
    }
   ],
   "source": [
    "#Write a recursive Python function to calculate the sum of all elements in a list.\n",
    "\n",
    "def sum_list(lst):\n",
    "    if len(lst)==0:\n",
    "        return 0\n",
    "    else:\n",
    "        return lst[0]+sum_list(lst[1:])\n",
    "    \n",
    "lst=[1,2,3,4]\n",
    "print(sum_list(lst))\n",
    "\n",
    "\n"
   ]
  },
  {
   "cell_type": "code",
   "execution_count": null,
   "id": "fe61a429",
   "metadata": {},
   "outputs": [],
   "source": [
    "\n",
    "\n",
    "\n",
    "\n",
    "\n",
    "\n",
    "Write a recursive Python function to check if a string is a palindrome.\n",
    "Create a recursive Python function to generate all possible combinations of a list of elements.\n"
   ]
  },
  {
   "cell_type": "code",
   "execution_count": null,
   "id": "1f7afd94",
   "metadata": {},
   "outputs": [],
   "source": [
    "#How can you prevent a recursive function from running indefinitely, causing a stack overflow error?\n",
    "\n",
    "'''\n",
    "Base Cases: Base cases are the conditions in your recursive function that determine when\n",
    "the recursion should stop. These conditions should be designed so that they are eventually3\n",
    "met during the recursive calls, allowing the function to exit gracefully. Base cases are the most \n",
    "critical aspect of preventing infinite recursion.\n",
    "\n",
    "Progress Towards Base Cases: Recursive functions should be structured in such a way that they\n",
    "make progress toward the base cases with each recursive call. This means that the arguments \n",
    "or parameters passed into the recursive calls should move closer to the base cases in each iteration.\n",
    "If they don't, you risk running into infinite recursion\n",
    "\n",
    "'''"
   ]
  },
  {
   "cell_type": "code",
   "execution_count": 3,
   "id": "726993ee",
   "metadata": {},
   "outputs": [
    {
     "data": {
      "text/plain": [
       "13"
      ]
     },
     "execution_count": 3,
     "metadata": {},
     "output_type": "execute_result"
    }
   ],
   "source": [
    "#Create a recursive Python function to find the greatest common divisor (GCD)\n",
    "#of two numbers using the Euclidean algorithm.\n",
    "\n",
    "def gcd(a,b):\n",
    "    while b!=0:\n",
    "        a,b=b,a%b\n",
    "    return a\n",
    "\n",
    "gcd(13,26)"
   ]
  },
  {
   "cell_type": "code",
   "execution_count": 10,
   "id": "9c729137",
   "metadata": {},
   "outputs": [
    {
     "data": {
      "text/plain": [
       "'arahas'"
      ]
     },
     "execution_count": 10,
     "metadata": {},
     "output_type": "execute_result"
    }
   ],
   "source": [
    "#Write a recursive Python function to reverse a string.\n",
    "\n",
    "def reverse_string(string):\n",
    "    if string==\"\":\n",
    "        return \"\"\n",
    "    else:\n",
    "        #print(string[1:]+string[0])\n",
    "        return reverse_string(string[1:])+string[0]\n",
    "    \n",
    "reverse_string('sahara')\n",
    "        \n",
    "    "
   ]
  },
  {
   "cell_type": "code",
   "execution_count": 13,
   "id": "6018e73f",
   "metadata": {},
   "outputs": [
    {
     "data": {
      "text/plain": [
       "16"
      ]
     },
     "execution_count": 13,
     "metadata": {},
     "output_type": "execute_result"
    }
   ],
   "source": [
    "#Create a recursive Python function to calculate the power of a number (x^n).\n",
    "\n",
    "def power_num(x,n):\n",
    "    if n==0:\n",
    "        return 1\n",
    "    else:\n",
    "        return x*power_num(x,n-1)\n",
    "    \n",
    "power_num(2,4)"
   ]
  },
  {
   "cell_type": "code",
   "execution_count": 29,
   "id": "525a2a10",
   "metadata": {},
   "outputs": [
    {
     "name": "stdout",
     "output_type": "stream",
     "text": [
      "here again start1=0 i= 0\n",
      "0 0\n",
      "1 1\n",
      "2 2\n",
      "1234\n",
      "2 3\n",
      "1243\n",
      "1 2\n",
      "2 2\n",
      "1324\n",
      "2 3\n",
      "1342\n",
      "1 3\n",
      "2 2\n",
      "1432\n",
      "2 3\n",
      "1423\n",
      "here again start1=0 i= 1\n",
      "0 1\n",
      "1 1\n",
      "2 2\n",
      "2134\n",
      "2 3\n",
      "2143\n",
      "1 2\n",
      "2 2\n",
      "2314\n",
      "2 3\n",
      "2341\n",
      "1 3\n",
      "2 2\n",
      "2431\n",
      "2 3\n",
      "2413\n",
      "here again start1=0 i= 2\n",
      "0 2\n",
      "1 1\n",
      "2 2\n",
      "3214\n",
      "2 3\n",
      "3241\n",
      "1 2\n",
      "2 2\n",
      "3124\n",
      "2 3\n",
      "3142\n",
      "1 3\n",
      "2 2\n",
      "3412\n",
      "2 3\n",
      "3421\n",
      "here again start1=0 i= 3\n",
      "0 3\n",
      "1 1\n",
      "2 2\n",
      "4231\n",
      "2 3\n",
      "4213\n",
      "1 2\n",
      "2 2\n",
      "4321\n",
      "2 3\n",
      "4312\n",
      "1 3\n",
      "2 2\n",
      "4132\n",
      "2 3\n",
      "4123\n"
     ]
    }
   ],
   "source": [
    "#Write a recursive Python function to find all permutations of a given string.\n",
    "\n",
    "def find_permutations(string, start=0):\n",
    "    # Convert the string to a list so we can swap characters\n",
    "    char_list = list(string)\n",
    "    \n",
    "    # If we have reached the end of the string, print the permutation\n",
    "    if start == len(string) - 1:\n",
    "        print(\"\".join(char_list))\n",
    "    else:\n",
    "        # Recursively generate permutations by swapping characters\n",
    "        for i in range(start, len(string)):\n",
    "            char_list[start], char_list[i] = char_list[i], char_list[start]  # Swap\n",
    "            #print(\"start first=\",start,i,\"\".join(char_list))\n",
    "            if start==0:\n",
    "                print(\"here again start1=0\",\"i=\",i)\n",
    "            print(start,i)\n",
    "            find_permutations(\"\".join(char_list), start + 1)  # Recurse\n",
    "            char_list[start], char_list[i] = char_list[i], char_list[start]  # Undo the swap\n",
    "            #print(\"start second=\",start,i,\"\".join(char_list))\n",
    "\n",
    "# Input string\n",
    "input_string = \"1234\"\n",
    "\n",
    "# Call the recursive function to find and print permutations\n",
    "find_permutations(input_string)"
   ]
  },
  {
   "cell_type": "code",
   "execution_count": 1,
   "id": "0a41cc73",
   "metadata": {},
   "outputs": [
    {
     "name": "stdout",
     "output_type": "stream",
     "text": [
      "['h', 'a', 'p', 'p', 'y']\n"
     ]
    }
   ],
   "source": [
    "x=list('happy')\n",
    "print(x)"
   ]
  },
  {
   "cell_type": "markdown",
   "id": "04bc864e",
   "metadata": {},
   "source": [
    "# Very Very Important"
   ]
  },
  {
   "cell_type": "code",
   "execution_count": 4,
   "id": "6424d071",
   "metadata": {},
   "outputs": [
    {
     "name": "stdout",
     "output_type": "stream",
     "text": [
      "abcd\n",
      "abdc\n",
      "acbd\n",
      "acdb\n",
      "adcb\n",
      "adbc\n",
      "bacd\n",
      "badc\n",
      "bcad\n",
      "bcda\n",
      "bdca\n",
      "bdac\n",
      "cbad\n",
      "cbda\n",
      "cabd\n",
      "cadb\n",
      "cdab\n",
      "cdba\n",
      "dbca\n",
      "dbac\n",
      "dcba\n",
      "dcab\n",
      "dacb\n",
      "dabc\n"
     ]
    }
   ],
   "source": [
    "def find_permutations(string,start=0):\n",
    "    \n",
    "    char_list=list(string)\n",
    "    \n",
    "    if start==len(string)-1:\n",
    "        return  print(\"\".join(char_list))\n",
    "    \n",
    "    else:\n",
    "        \n",
    "    \n",
    "  \n",
    "        for i in range(start,len(string)):\n",
    "            char_list[start],char_list[i]=char_list[i],char_list[start] #swap\n",
    "            find_permutations(\"\".join(char_list),start+1)\n",
    "            char_list[i],char_list[start]=char_list[start],char_list[i] #unswap\n",
    "        \n",
    "        \n",
    "find_permutations('abcd')        "
   ]
  },
  {
   "cell_type": "code",
   "execution_count": null,
   "id": "57201816",
   "metadata": {},
   "outputs": [],
   "source": [
    "def fac(n):\n",
    "    if n==1:\n",
    "        return 1\n",
    "    else:\n",
    "        return n*fac(n)"
   ]
  },
  {
   "cell_type": "code",
   "execution_count": null,
   "id": "dd0444c2",
   "metadata": {},
   "outputs": [],
   "source": [
    "fac(26)"
   ]
  },
  {
   "cell_type": "markdown",
   "id": "f90bad15",
   "metadata": {},
   "source": [
    "#  Important"
   ]
  },
  {
   "cell_type": "code",
   "execution_count": 10,
   "id": "9b2c6ed0",
   "metadata": {},
   "outputs": [
    {
     "name": "stdout",
     "output_type": "stream",
     "text": [
      "Enter tha string to check if it is a paindrome : racecar\n",
      "racecar is a palindrome\n"
     ]
    }
   ],
   "source": [
    "#Write a recursive Python function to check if a string is a palindrome.\n",
    "\n",
    "\n",
    "def is_palindrome(string):\n",
    "    \n",
    "    if len(string)<=1:\n",
    "        return True\n",
    "    elif string[0]!=string[-1]:\n",
    "        return False\n",
    "    else:\n",
    "        return is_palindrome(string[1:-1])\n",
    "        \n",
    "input_string=input(\"Enter tha string to check if it is a paindrome : \")\n",
    "\n",
    "if is_palindrome(input_string):\n",
    "    print(f\"{input_string} is a palindrome\")\n",
    "else:\n",
    "     print(f\"{input_string} is not a palindrome\")\n",
    "    \n",
    "        "
   ]
  },
  {
   "cell_type": "markdown",
   "id": "f91757bc",
   "metadata": {},
   "source": [
    "# Very Very Important"
   ]
  },
  {
   "cell_type": "code",
   "execution_count": 2,
   "id": "0c4b2ab5",
   "metadata": {},
   "outputs": [
    {
     "name": "stdout",
     "output_type": "stream",
     "text": [
      "[1, 2, 3, 4]\n",
      "[1, 2, 4, 3]\n",
      "[1, 3, 2, 4]\n",
      "[1, 3, 4, 2]\n",
      "[1, 4, 3, 2]\n",
      "[1, 4, 2, 3]\n",
      "[2, 1, 3, 4]\n",
      "[2, 1, 4, 3]\n",
      "[2, 3, 1, 4]\n",
      "[2, 3, 4, 1]\n",
      "[2, 4, 3, 1]\n",
      "[2, 4, 1, 3]\n",
      "[3, 2, 1, 4]\n",
      "[3, 2, 4, 1]\n",
      "[3, 1, 2, 4]\n",
      "[3, 1, 4, 2]\n",
      "[3, 4, 1, 2]\n",
      "[3, 4, 2, 1]\n",
      "[4, 2, 3, 1]\n",
      "[4, 2, 1, 3]\n",
      "[4, 3, 2, 1]\n",
      "[4, 3, 1, 2]\n",
      "[4, 1, 3, 2]\n",
      "[4, 1, 2, 3]\n"
     ]
    }
   ],
   "source": [
    "#Create a recursive Python function to generate all possible combinations of a list of elements.\n",
    "\n",
    "def find_permutations(lst,start=0):\n",
    "    if start==len(lst)-1:\n",
    "        return print(lst)\n",
    "    \n",
    "    else:\n",
    "        for i in range(start,len(lst)):\n",
    "            lst[start],lst[i]=lst[i],lst[start]\n",
    "            find_permutations(lst,start+1)\n",
    "            lst[start],lst[i]=lst[i],lst[start]\n",
    "        \n",
    "        \n",
    "find_permutations([1,2,3,4])    "
   ]
  },
  {
   "cell_type": "code",
   "execution_count": null,
   "id": "629b7294",
   "metadata": {},
   "outputs": [],
   "source": []
  }
 ],
 "metadata": {
  "kernelspec": {
   "display_name": "Python 3 (ipykernel)",
   "language": "python",
   "name": "python3"
  },
  "language_info": {
   "codemirror_mode": {
    "name": "ipython",
    "version": 3
   },
   "file_extension": ".py",
   "mimetype": "text/x-python",
   "name": "python",
   "nbconvert_exporter": "python",
   "pygments_lexer": "ipython3",
   "version": "3.9.17"
  }
 },
 "nbformat": 4,
 "nbformat_minor": 5
}
