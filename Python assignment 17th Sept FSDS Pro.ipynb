{
 "cells": [
  {
   "cell_type": "markdown",
   "id": "9a6852b8",
   "metadata": {},
   "source": [
    "# For Loop :-\n"
   ]
  },
  {
   "cell_type": "code",
   "execution_count": 1,
   "id": "20ab291b",
   "metadata": {},
   "outputs": [
    {
     "name": "stdout",
     "output_type": "stream",
     "text": [
      "1 2 3 4 5 6 7 8 9 10 "
     ]
    }
   ],
   "source": [
    "#1. Write a Python program to print numbers from 1 to 10 using a for loop.\n",
    "\n",
    "for i in range(10):\n",
    "  print(i+1,end =' ')"
   ]
  },
  {
   "cell_type": "code",
   "execution_count": 2,
   "id": "e945f125",
   "metadata": {},
   "outputs": [
    {
     "data": {
      "text/plain": [
       "'\\nWe use while loop when the number of iterations is not fixed beforehand, rather it depends\\non the fulfilment of some condition.\\n\\nWe use for loop when the number of iterations is fixed.'"
      ]
     },
     "execution_count": 2,
     "metadata": {},
     "output_type": "execute_result"
    }
   ],
   "source": [
    "#2. Explain the difference between a for loop and a while loop in Python.\n",
    "'''\n",
    "We use while loop when the number of iterations is not fixed beforehand, rather it depends\n",
    "on the fulfilment of some condition.\n",
    "\n",
    "We use for loop when the number of iterations is fixed.'''"
   ]
  },
  {
   "cell_type": "code",
   "execution_count": 3,
   "id": "217736c1",
   "metadata": {},
   "outputs": [
    {
     "name": "stdout",
     "output_type": "stream",
     "text": [
      "5050\n"
     ]
    }
   ],
   "source": [
    "#3. Write a Python program to calculate the sum of all numbers from 1 to 100 using a for loop.\n",
    "\n",
    "s=0\n",
    "\n",
    "for i in range(0,100):\n",
    "  s=s+i+1\n",
    "\n",
    "print(s)"
   ]
  },
  {
   "cell_type": "code",
   "execution_count": 4,
   "id": "d03de3d0",
   "metadata": {},
   "outputs": [
    {
     "name": "stdout",
     "output_type": "stream",
     "text": [
      "1 2 3 4 \n",
      "1 2 3 4 \n",
      "0 1\n",
      "1 2\n",
      "2 3\n",
      "3 4\n"
     ]
    }
   ],
   "source": [
    "#4. How do you iterate through a list using a for loop in Python?\n",
    "\n",
    "#The for loop implicitly applies the iter() function on the list, which is an iterable,\n",
    "#to convert it into an iterator, then implicitly applies next() function to iterate throught the elements\n",
    "#of the iterator.\n",
    "\n",
    "l=[1,2,3,4]\n",
    "\n",
    "for i in l:\n",
    "  print(i,end= ' ')\n",
    "print()\n",
    "\n",
    "for i in range(len(l)):\n",
    "  print(l[i],end= ' ')\n",
    "print()\n",
    "\n",
    "for i,j in enumerate(l):\n",
    "  print(i,j)"
   ]
  },
  {
   "cell_type": "code",
   "execution_count": 5,
   "id": "63aeaf1c",
   "metadata": {},
   "outputs": [
    {
     "name": "stdout",
     "output_type": "stream",
     "text": [
      "24\n"
     ]
    }
   ],
   "source": [
    "#5. Write a Python program to find the product of all elements in a list using a for loop.\n",
    "\n",
    "\n",
    "l=[1,2,3,4]\n",
    "\n",
    "result=1\n",
    "\n",
    "for i in l:\n",
    "  result=result*i\n",
    "\n",
    "print(result)"
   ]
  },
  {
   "cell_type": "code",
   "execution_count": 6,
   "id": "ef4c7e25",
   "metadata": {},
   "outputs": [
    {
     "name": "stdout",
     "output_type": "stream",
     "text": [
      "0,2,4,6,8,10,12,14,16,18,20,"
     ]
    }
   ],
   "source": [
    "#6. Create a Python program that prints all even numbers from 1 to 20 using a for loop.\n",
    "\n",
    "for i in range(21):\n",
    "  if i%2==0:\n",
    "    print(i,end=',')"
   ]
  },
  {
   "cell_type": "code",
   "execution_count": 7,
   "id": "a5f17649",
   "metadata": {},
   "outputs": [
    {
     "name": "stdout",
     "output_type": "stream",
     "text": [
      "Enter the number : 5\n",
      "120\n"
     ]
    }
   ],
   "source": [
    "#7. Write a Python program that calculates the factorial of a number using a for loop.\n",
    "\n",
    "n=int(input(\"Enter the number : \"))\n",
    "result=1\n",
    "for i in range(n):\n",
    "  result=result*(i+1)\n",
    "\n",
    "print(result)"
   ]
  },
  {
   "cell_type": "code",
   "execution_count": 8,
   "id": "2543cbb6",
   "metadata": {},
   "outputs": [
    {
     "name": "stdout",
     "output_type": "stream",
     "text": [
      "Enter the string : happy \n",
      "h a p p y   "
     ]
    }
   ],
   "source": [
    "#8. How can you iterate through the characters of a string using a for loop in Python?\n",
    "\n",
    "string=input(\"Enter the string : \")\n",
    "\n",
    "for i in string:\n",
    "  print(i, end=' ')"
   ]
  },
  {
   "cell_type": "code",
   "execution_count": 9,
   "id": "dda423c7",
   "metadata": {},
   "outputs": [
    {
     "name": "stdout",
     "output_type": "stream",
     "text": [
      "120\n"
     ]
    }
   ],
   "source": [
    "#9. Write a Python program to find the largest number in a list using a for loop.\n",
    "\n",
    "l=[12,55,8,80,93,120,2,33]\n",
    "\n",
    "largest=0\n",
    "for i in l:\n",
    "  if i>largest:\n",
    "    largest=i\n",
    "\n",
    "print(largest)"
   ]
  },
  {
   "cell_type": "code",
   "execution_count": 10,
   "id": "e15f5951",
   "metadata": {},
   "outputs": [
    {
     "name": "stdout",
     "output_type": "stream",
     "text": [
      "Enter the limit : 7\n",
      "0 1 1 2 3 5 8 "
     ]
    }
   ],
   "source": [
    "#10. Create a Python program that prints the Fibonacci sequence up to a specified limit using a for loop.\n",
    "\n",
    "n=int(input(\"Enter the limit : \"))\n",
    "\n",
    "a=0\n",
    "b=1\n",
    "\n",
    "for i in range(n):\n",
    "  print(a,end= ' ')\n",
    "  a,b=b,a+b"
   ]
  },
  {
   "cell_type": "code",
   "execution_count": 11,
   "id": "fcd435aa",
   "metadata": {},
   "outputs": [
    {
     "name": "stdout",
     "output_type": "stream",
     "text": [
      "Enter the string : summer\n",
      "the number of vowels present in the string is : 2\n"
     ]
    }
   ],
   "source": [
    "#11. Write a Python program to count the number of vowels in a given string using a for loop.\n",
    "\n",
    "vowels=['a','e','i','o','u','A','E','I','O','U']\n",
    "\n",
    "string=input(\"Enter the string : \")\n",
    "c=0\n",
    "for i in string:\n",
    "  if i in vowels:\n",
    "    c=c+1\n",
    "print(f\"the number of vowels present in the string is : {c}\")"
   ]
  },
  {
   "cell_type": "code",
   "execution_count": 12,
   "id": "9cd6976a",
   "metadata": {},
   "outputs": [
    {
     "name": "stdout",
     "output_type": "stream",
     "text": [
      "Enter the number :  7\n",
      "7 1 7\n",
      "7 2 14\n",
      "7 3 21\n",
      "7 4 28\n",
      "7 5 35\n",
      "7 6 42\n",
      "7 7 49\n",
      "7 8 56\n",
      "7 9 63\n",
      "7 10 70\n"
     ]
    }
   ],
   "source": [
    "#12. Create a Python program that generates a multiplication table for a given number using a for loop.\n",
    "\n",
    "n=int(input(\"Enter the number :  \"))\n",
    "\n",
    "for i in range(10):\n",
    "  print(n,i+1,n*(i+1))"
   ]
  },
  {
   "cell_type": "code",
   "execution_count": 13,
   "id": "f4936ca0",
   "metadata": {},
   "outputs": [
    {
     "name": "stdout",
     "output_type": "stream",
     "text": [
      "[9, 7, 6, 8, 5, 4]\n"
     ]
    }
   ],
   "source": [
    "#13. Write a Python program to reverse a list using a for loop.\n",
    "\n",
    "l=[4,5,8,6,7,9]\n",
    "l1=[]\n",
    "for i in range(len(l)-1,-1,-1):\n",
    "  l1.append(l[i])\n",
    "\n",
    "print(l1)"
   ]
  },
  {
   "cell_type": "code",
   "execution_count": 14,
   "id": "72b3e591",
   "metadata": {},
   "outputs": [
    {
     "name": "stdout",
     "output_type": "stream",
     "text": [
      "a 77 "
     ]
    }
   ],
   "source": [
    "#14. Write a Python program to find the common elements between two lists using a for loop.\n",
    "\n",
    "l1=['a',1,2,33,77,'abc']\n",
    "\n",
    "l2=[77,7,8,9,'bcd','a']\n",
    "\n",
    "for i in l1:\n",
    "  if i in l2:\n",
    "    print(i,end=' ')"
   ]
  },
  {
   "cell_type": "code",
   "execution_count": 15,
   "id": "0e113fed",
   "metadata": {},
   "outputs": [
    {
     "name": "stdout",
     "output_type": "stream",
     "text": [
      "a 11\n",
      "b 33\n",
      "c 77\n",
      "\n",
      "a\n",
      "b\n",
      "c\n",
      "\n",
      "11\n",
      "33\n",
      "77\n"
     ]
    }
   ],
   "source": [
    "#15. Explain how to use a for loop to iterate through the keys and values of a dictionary in Python.\n",
    "\n",
    "d={'a':11,'b':33,'c':77}\n",
    "\n",
    "for i,j in d.items():\n",
    "  print(i,j)\n",
    "print()\n",
    "\n",
    "for i in d:\n",
    "  print(i)\n",
    "print()\n",
    "\n",
    "for i in d.values():\n",
    "  print(i)"
   ]
  },
  {
   "cell_type": "code",
   "execution_count": 16,
   "id": "cbd8f437",
   "metadata": {},
   "outputs": [
    {
     "name": "stdout",
     "output_type": "stream",
     "text": [
      "13\n"
     ]
    }
   ],
   "source": [
    "#16. mWrite a Python program to find the GCD (Greatest Common Divisor) of two numbers using a for loop.\n",
    "\n",
    "n1=52\n",
    "n2=13\n",
    "if n1>n2:\n",
    "  n=n1\n",
    "else:\n",
    "  n=n2\n",
    "gcd=0\n",
    "for i in range(1,n+1):\n",
    "  if n1%i==0:\n",
    "    if n2%i==0:\n",
    "      if i>gcd:\n",
    "        gcd=i\n",
    "print(gcd)"
   ]
  },
  {
   "cell_type": "code",
   "execution_count": 19,
   "id": "f70b2fec",
   "metadata": {},
   "outputs": [
    {
     "name": "stdout",
     "output_type": "stream",
     "text": [
      "Enter the string : tenet\n",
      "tenet is a palindrome\n"
     ]
    }
   ],
   "source": [
    "#17. Create a Python program that checks if a string is a palindrome using a for loop.\n",
    "\n",
    "string=input(\"Enter the string : \")\n",
    "\n",
    "for i in range(len(string)):\n",
    "  if string[i]!=string[len(string)-i-1]:\n",
    "    print(f\"{string} is not a palindrome\")\n",
    "    break\n",
    "else:\n",
    "  print(f\"{string} is a palindrome\")"
   ]
  },
  {
   "cell_type": "code",
   "execution_count": 20,
   "id": "2c08b5e1",
   "metadata": {},
   "outputs": [
    {
     "ename": "IndexError",
     "evalue": "list index out of range",
     "output_type": "error",
     "traceback": [
      "\u001b[1;31m---------------------------------------------------------------------------\u001b[0m",
      "\u001b[1;31mIndexError\u001b[0m                                Traceback (most recent call last)",
      "Cell \u001b[1;32mIn[20], line 7\u001b[0m\n\u001b[0;32m      5\u001b[0m \u001b[38;5;28;01mfor\u001b[39;00m i \u001b[38;5;129;01min\u001b[39;00m \u001b[38;5;28mrange\u001b[39m(\u001b[38;5;28mlen\u001b[39m(l)):\n\u001b[0;32m      6\u001b[0m   \u001b[38;5;28;01mfor\u001b[39;00m j \u001b[38;5;129;01min\u001b[39;00m \u001b[38;5;28mrange\u001b[39m(\u001b[38;5;28mlen\u001b[39m(l)):\n\u001b[1;32m----> 7\u001b[0m     \u001b[38;5;28;01mif\u001b[39;00m \u001b[43ml\u001b[49m\u001b[43m[\u001b[49m\u001b[43mj\u001b[49m\u001b[43m]\u001b[49m\u001b[38;5;241m==\u001b[39ml[i] \u001b[38;5;129;01mand\u001b[39;00m i\u001b[38;5;241m!=\u001b[39mj:\n\u001b[0;32m      8\u001b[0m       l\u001b[38;5;241m.\u001b[39mremove(l[j])\n\u001b[0;32m     12\u001b[0m \u001b[38;5;28mprint\u001b[39m(l)\n",
      "\u001b[1;31mIndexError\u001b[0m: list index out of range"
     ]
    }
   ],
   "source": [
    "#18. Write a Python program to remove duplicates from a list using a for loop.\n",
    "\n",
    "l=[1,2,3,4,5,2,3]\n",
    "\n",
    "for i in range(len(l)):\n",
    "  for j in range(len(l)):\n",
    "    if l[j]==l[i] and i!=j:\n",
    "      l.remove(l[j])\n",
    "\n",
    "\n",
    "\n",
    "print(l)"
   ]
  },
  {
   "cell_type": "code",
   "execution_count": 45,
   "id": "dbc19d5d",
   "metadata": {},
   "outputs": [
    {
     "name": "stdout",
     "output_type": "stream",
     "text": [
      "[2, 4]\n"
     ]
    }
   ],
   "source": [
    "def find_duplicates(lst):\n",
    "    count_dict = {}\n",
    "    duplicates = []\n",
    "\n",
    "    for item in lst:\n",
    "        if item in count_dict:\n",
    "            count_dict[item] += 1\n",
    "        else:\n",
    "            count_dict[item] = 1\n",
    "    #print(count_dict)\n",
    "\n",
    "    for item, count in count_dict.items():\n",
    "        if count > 1:\n",
    "            duplicates.append(item)\n",
    "    \n",
    "    return duplicates\n",
    "\n",
    "my_list = [1, 2, 2, 3, 4, 4, 5]\n",
    "duplicate_items = find_duplicates(my_list)\n",
    "print(duplicate_items)"
   ]
  },
  {
   "cell_type": "code",
   "execution_count": 34,
   "id": "e940a42d",
   "metadata": {},
   "outputs": [
    {
     "name": "stdout",
     "output_type": "stream",
     "text": [
      "{2: 4}\n"
     ]
    }
   ],
   "source": [
    "d={}\n",
    "\n",
    "d[2]=4\n",
    "\n",
    "print(d)"
   ]
  },
  {
   "cell_type": "code",
   "execution_count": 40,
   "id": "c4ff0b7e",
   "metadata": {},
   "outputs": [
    {
     "name": "stdout",
     "output_type": "stream",
     "text": [
      "[1, 2, 2, 3, 5]\n"
     ]
    }
   ],
   "source": [
    "my_list = [1, 2, 2, 3, 4, 4, 5]\n",
    "my_list.remove(4)\n",
    "my_list.remove(4)\n",
    "print(my_list)"
   ]
  },
  {
   "cell_type": "code",
   "execution_count": 46,
   "id": "ce65c652",
   "metadata": {},
   "outputs": [
    {
     "name": "stdout",
     "output_type": "stream",
     "text": [
      "[1, 2, 3, 4, 5]\n"
     ]
    }
   ],
   "source": [
    "def remove_duplicates(lst):\n",
    "    count_dict = {}\n",
    "   \n",
    "\n",
    "    for item in lst:\n",
    "        if item in count_dict:\n",
    "            count_dict[item] += 1\n",
    "        else:\n",
    "            count_dict[item] = 1\n",
    "    #print(count_dict)\n",
    "\n",
    "    for item, count in count_dict.items():\n",
    "        if count > 1:\n",
    "            lst.remove(item)\n",
    "            \n",
    "    \n",
    "    return lst\n",
    "\n",
    "my_list = [1, 2, 2, 3, 4, 4, 5]\n",
    "duplicates_removed = remove_duplicates(my_list)\n",
    "print(duplicates_removed)"
   ]
  },
  {
   "cell_type": "code",
   "execution_count": 21,
   "id": "a08cfd79",
   "metadata": {},
   "outputs": [
    {
     "name": "stdout",
     "output_type": "stream",
     "text": [
      "Type the sentence : Birds are flying back to their nests.\n",
      "7\n"
     ]
    }
   ],
   "source": [
    "#19. Create a Python program that counts the number of words in a sentence using a for loop.\n",
    "\n",
    "\n",
    "sentence=input(\"Type the sentence : \")\n",
    "\n",
    "x=sentence.split()\n",
    "\n",
    "c=0\n",
    "for i in range(len(x)):\n",
    "  c=c+1\n",
    "print(c)"
   ]
  },
  {
   "cell_type": "code",
   "execution_count": 24,
   "id": "2fc988fe",
   "metadata": {},
   "outputs": [
    {
     "name": "stdout",
     "output_type": "stream",
     "text": [
      "625\n"
     ]
    }
   ],
   "source": [
    "#20. Write a Python program to find the sum of all odd numbers from 1 to 50 using a for loop.\n",
    "s=0\n",
    "for i in range(50):\n",
    "  if (i+1)%2!=0:\n",
    "    s=s+(i+1)\n",
    "\n",
    "print(s)\n"
   ]
  },
  {
   "cell_type": "code",
   "execution_count": 25,
   "id": "d7762794",
   "metadata": {},
   "outputs": [
    {
     "name": "stdout",
     "output_type": "stream",
     "text": [
      "4.358898943540673\n"
     ]
    }
   ],
   "source": [
    "#22. Create a Python program that calculates the square root of a number using a for loop.\n",
    "\n",
    "number=19\n",
    "guess=1.0\n",
    "for i in range(1000):\n",
    "  guess=0.5*(guess+number/guess)\n",
    "\n",
    "print(guess)\n"
   ]
  },
  {
   "cell_type": "code",
   "execution_count": 26,
   "id": "87cb9f8e",
   "metadata": {},
   "outputs": [
    {
     "name": "stdout",
     "output_type": "stream",
     "text": [
      "Enter a number: 19\n",
      "Square root of 19.0 is approximately 4.358899\n"
     ]
    }
   ],
   "source": [
    "def square_root(number, iterations=1000):\n",
    "    # Initial guess for the square root (you can start with any positive number)\n",
    "    guess = 1.0\n",
    "    \n",
    "    for _ in range(iterations):\n",
    "        # Update the guess using the formula for Newton's method\n",
    "        #print(guess)\n",
    "        guess = 0.5 * (guess + number / guess)\n",
    "\n",
    "    return guess\n",
    "\n",
    "# Input number for which you want to calculate the square root\n",
    "input_number = float(input(\"Enter a number: \"))\n",
    "\n",
    "if input_number < 0:\n",
    "    print(\"Square root is undefined for negative numbers.\")\n",
    "else:\n",
    "    # Calculate the square root using the square_root function\n",
    "    result = square_root(input_number)\n",
    "    print(f\"Square root of {input_number} is approximately {result:.6f}\")"
   ]
  },
  {
   "cell_type": "code",
   "execution_count": 27,
   "id": "d9711bad",
   "metadata": {},
   "outputs": [
    {
     "name": "stdout",
     "output_type": "stream",
     "text": [
      "Enter a number: 19\n",
      "Square root of 19.0 is approximately 4.358899\n"
     ]
    }
   ],
   "source": [
    "def square_root(number, tolerance=0.001):\n",
    "    # Initial guess for the square root (you can start with any positive number)\n",
    "    guess1 = 1.0\n",
    "    guess2 = guess1+100*tolerance\n",
    "\n",
    "    while abs(guess1-guess2)>tolerance:\n",
    "      guess1=guess2\n",
    "      # Update the guess using the formula for Newton's method\n",
    "      #print(guess)\n",
    "      guess2 = 0.5 * (guess1 + number / guess1)\n",
    "    \n",
    "    return guess2\n",
    "\n",
    "# Input number for which you want to calculate the square root\n",
    "input_number = float(input(\"Enter a number: \"))\n",
    "\n",
    "if input_number < 0:\n",
    "    print(\"Square root is undefined for negative numbers.\")\n",
    "else:\n",
    "    # Calculate the square root using the square_root function\n",
    "    result = square_root(input_number)\n",
    "    print(f\"Square root of {input_number} is approximately {result:.6f}\")"
   ]
  },
  {
   "cell_type": "code",
   "execution_count": 29,
   "id": "ce4dffea",
   "metadata": {},
   "outputs": [
    {
     "name": "stdout",
     "output_type": "stream",
     "text": [
      "27\n"
     ]
    }
   ],
   "source": [
    "#23. Write a Python program to find the LCM (Least Common Multiple) of two numbers using a for loop.\n",
    "\n",
    "n1=27\n",
    "n2=9\n",
    "\n",
    "if n1>n2:\n",
    "  n=n2\n",
    "else:\n",
    "  n=n1\n",
    "\n",
    "while True:\n",
    "  if n%n1==0:\n",
    "    if n%n2==0:\n",
    "      break\n",
    "  n=n+1\n",
    "  \n",
    "print(n)\n",
    "\n"
   ]
  },
  {
   "cell_type": "markdown",
   "id": "6707b18b",
   "metadata": {},
   "source": [
    "# if-else:"
   ]
  },
  {
   "cell_type": "code",
   "execution_count": null,
   "id": "a1c28e68",
   "metadata": {},
   "outputs": [],
   "source": [
    "\n",
    "\n",
    "\n",
    "\n",
    "\n",
    "\n"
   ]
  },
  {
   "cell_type": "code",
   "execution_count": 47,
   "id": "e85f3813",
   "metadata": {},
   "outputs": [
    {
     "name": "stdout",
     "output_type": "stream",
     "text": [
      "Enter the number : -5\n",
      "the number is negative\n"
     ]
    }
   ],
   "source": [
    "#1. Write a Python program to check if a number is positive, negative, or zero using an if-else statement.\n",
    "\n",
    "n=float(input(\"Enter the number : \"))\n",
    "\n",
    "if n==0:\n",
    "    print(\"the number is zero\")\n",
    "elif n>0:\n",
    "     print(\"the number is positive\")\n",
    "else:\n",
    "     print(\"the number is negative\")\n",
    "    "
   ]
  },
  {
   "cell_type": "code",
   "execution_count": 48,
   "id": "996a2f50",
   "metadata": {},
   "outputs": [
    {
     "name": "stdout",
     "output_type": "stream",
     "text": [
      "Enter the number : 7\n",
      "The number is odd\n"
     ]
    }
   ],
   "source": [
    "#Create a Python program that checks if a given number is even or odd using an if-else statement.\n",
    "\n",
    "\n",
    "n=float(input(\"Enter the number : \"))\n",
    "\n",
    "if n%2==0:\n",
    "    print(\"The number is even\")\n",
    "else:\n",
    "    print(\"The number is odd\")\n",
    "    "
   ]
  },
  {
   "cell_type": "code",
   "execution_count": 50,
   "id": "3a12b906",
   "metadata": {},
   "outputs": [
    {
     "name": "stdout",
     "output_type": "stream",
     "text": [
      "The number is positive but not even.\n"
     ]
    }
   ],
   "source": [
    "#How can you use nested if-else statements in Python, and provide an example?\n",
    "'''\n",
    "if condition1:\n",
    "    # Code to execute if condition1 is True\n",
    "    if condition2:\n",
    "        # Code to execute if both condition1 and condition2 are True\n",
    "    else:\n",
    "        # Code to execute if condition1 is True but condition2 is False\n",
    "else:\n",
    "    # Code to execute if condition1 is False\n",
    "    '''\n",
    "\n",
    "#check if a number is positive and even.\n",
    "\n",
    "n=7\n",
    "\n",
    "if n>0:\n",
    "    if n%2==0:\n",
    "        print(\"The number is positive and even.\")\n",
    "    else:\n",
    "        print(\"The number is positive but not even.\")\n",
    "else:\n",
    "    print(\"The number is negative.\")\n",
    "        "
   ]
  },
  {
   "cell_type": "code",
   "execution_count": 54,
   "id": "5a30ad9f",
   "metadata": {},
   "outputs": [
    {
     "name": "stdout",
     "output_type": "stream",
     "text": [
      "largest is 9\n"
     ]
    }
   ],
   "source": [
    "#Write a Python program to determine the largest of three numbers using if-else.\n",
    "\n",
    "a,b,c=4,2,9\n",
    "\n",
    "if a>b:\n",
    "    if b>c:\n",
    "        print(f\"largest is {a}\")\n",
    "    elif c>b:\n",
    "        if a>c:\n",
    "             print(f\"largest is {a}\")\n",
    "        elif c>a:\n",
    "             print(f\"largest is {c}\")\n",
    "else:   #b>a\n",
    "    if a>c:\n",
    "         print(f\"largest is {b}\")\n",
    "    elif c>a:\n",
    "        if b>c:\n",
    "             print(f\"largest is {b}\")\n",
    "        else:\n",
    "             print(f\"largest is {c}\")\n",
    "    \n",
    "    \n",
    "    \n",
    "            \n",
    "    \n",
    "    \n",
    "    "
   ]
  },
  {
   "cell_type": "code",
   "execution_count": 55,
   "id": "6a64d491",
   "metadata": {},
   "outputs": [
    {
     "name": "stdout",
     "output_type": "stream",
     "text": [
      "7\n"
     ]
    }
   ],
   "source": [
    "#Write a Python program that calculates the absolute value of a number using if-else.\n",
    "\n",
    "n=-7\n",
    "\n",
    "if n>0:\n",
    "    print(n)\n",
    "else:\n",
    "    print(-n)"
   ]
  },
  {
   "cell_type": "code",
   "execution_count": 58,
   "id": "f7cde0bb",
   "metadata": {},
   "outputs": [
    {
     "name": "stdout",
     "output_type": "stream",
     "text": [
      "Enter the character : e\n",
      "The character is a vowel.\n"
     ]
    }
   ],
   "source": [
    "#Create a Python program that checks if a given character is a vowel or consonant using if-else.\n",
    "\n",
    "vowels=['a','e','i','o','u','A','E','I','O','U']\n",
    "\n",
    "char=input(\"Enter the character : \")\n",
    "\n",
    "if char in vowels:\n",
    "    print(\"The character is a vowel.\")\n",
    "else:\n",
    "    print(\"The character is a consonant.\")"
   ]
  },
  {
   "cell_type": "code",
   "execution_count": null,
   "id": "78c4a726",
   "metadata": {},
   "outputs": [],
   "source": [
    "\n",
    "\n",
    "\n",
    "\n",
    "\n",
    "\n"
   ]
  },
  {
   "cell_type": "code",
   "execution_count": 59,
   "id": "64124dc8",
   "metadata": {},
   "outputs": [
    {
     "name": "stdout",
     "output_type": "stream",
     "text": [
      "eligible\n"
     ]
    }
   ],
   "source": [
    "#Write a Python program to determine if a user is eligible to vote based on their age using if-else.\n",
    "\n",
    "age=27\n",
    "\n",
    "if age>18:\n",
    "    print(\"eligible\")\n",
    "else:\n",
    "    print(\"not aligible\")"
   ]
  },
  {
   "cell_type": "code",
   "execution_count": 60,
   "id": "4dca725d",
   "metadata": {},
   "outputs": [
    {
     "name": "stdout",
     "output_type": "stream",
     "text": [
      "105.0\n"
     ]
    }
   ],
   "source": [
    "#Create a Python program that calculates the discount amount based on the purchase amount using if-else.\n",
    "\n",
    "purchase_amount=525\n",
    "\n",
    "if purchase_amount<500:\n",
    "    discount_amount=purchase_amount*0.1\n",
    "elif purchase_amount>500:\n",
    "     discount_amount=purchase_amount*0.2\n",
    "elif purchase_amount>1000:\n",
    "    discount_amount=purchase_amount*0.3\n",
    "    \n",
    "print(discount_amount)\n",
    "    "
   ]
  },
  {
   "cell_type": "code",
   "execution_count": 61,
   "id": "964eb7a4",
   "metadata": {},
   "outputs": [
    {
     "name": "stdout",
     "output_type": "stream",
     "text": [
      "within range\n"
     ]
    }
   ],
   "source": [
    "#Write a Python program to check if a number is within a specified range using if-else.\n",
    "\n",
    "n=107\n",
    "lower_bound=100\n",
    "upper_bound=200\n",
    "\n",
    "if lower_bound<n< upper_bound:\n",
    "    print(\"within range\")\n",
    "else:\n",
    "    print(\"Not within range\")\n",
    "    "
   ]
  },
  {
   "cell_type": "code",
   "execution_count": 65,
   "id": "325c28f0",
   "metadata": {},
   "outputs": [
    {
     "name": "stdout",
     "output_type": "stream",
     "text": [
      "grade :  A+\n"
     ]
    }
   ],
   "source": [
    "#Create a Python program that determines the grade of a student based on their score using if-else.\n",
    "\n",
    "score=80\n",
    "\n",
    "if score>=80:\n",
    "    print(\"grade :  A+\")\n",
    "elif score>=70:\n",
    "    print(\"grade :  A\")\n",
    "else:\n",
    "    print(\"grade :  B\")\n",
    "    \n",
    "    "
   ]
  },
  {
   "cell_type": "code",
   "execution_count": 67,
   "id": "2a89a746",
   "metadata": {},
   "outputs": [
    {
     "name": "stdout",
     "output_type": "stream",
     "text": [
      "Not empty\n"
     ]
    }
   ],
   "source": [
    "#Write a Python program to check if a string is empty or not using if-else.\n",
    "\n",
    "string=\"a\"\n",
    "\n",
    "if string==\"\":\n",
    "    print(\"empty\")\n",
    "else:\n",
    "    print(\"Not empty\")\n",
    "    "
   ]
  },
  {
   "cell_type": "code",
   "execution_count": 71,
   "id": "944752b0",
   "metadata": {},
   "outputs": [
    {
     "name": "stdout",
     "output_type": "stream",
     "text": [
      "enter the length of a : 7\n",
      "enter the length of a : 5\n",
      "enter the length of a : 7\n",
      "isosceles\n"
     ]
    }
   ],
   "source": [
    "#Create a Python program that identifies the type of a triangle \n",
    "#(e.g., equilateral, isosceles, or scalene) based on input values using if-else.\n",
    "\n",
    "a,b,c=float(input(\"enter the length of a : \")), float(input(\"enter the length of a : \")),float(input(\"enter the length of a : \"))\n",
    "\n",
    "if a==b and b==c:\n",
    "    print(\"equilateral\")\n",
    "elif (a==b and b!=c) or (a==c and b!=c) or (b==c and b!=a):\n",
    "    print(\"isosceles\")\n",
    "else:\n",
    "    print(\"scalene\")"
   ]
  },
  {
   "cell_type": "code",
   "execution_count": 72,
   "id": "1a2269b9",
   "metadata": {},
   "outputs": [
    {
     "name": "stdout",
     "output_type": "stream",
     "text": [
      "Enter a number between 1-7 : 7\n",
      "Sunday\n"
     ]
    }
   ],
   "source": [
    "\n",
    "# Write a Python program to determine the day of the week based on a user-provided number \n",
    "#using if-else.\n",
    "\n",
    "dict={1:\"Monday\",2:\"Tuesday\",3:\"Wednesday\",4:\"Thursday\",5:\"Friday\",6:\"Saturday\",7:\"Sunday\"}\n",
    "\n",
    "n=int(input(\"Enter a number between 1-7 : \"))\n",
    "\n",
    "if n in dict:\n",
    "    print(f\"{dict[n]}\")"
   ]
  },
  {
   "cell_type": "code",
   "execution_count": 74,
   "id": "0b8c5066",
   "metadata": {},
   "outputs": [
    {
     "name": "stdout",
     "output_type": "stream",
     "text": [
      "Enter a year: 2007\n",
      "2007 is not a leap year.\n"
     ]
    }
   ],
   "source": [
    "#Create a Python program that checks if a given year is a leap year using both if-else and a function.\n",
    "\n",
    "def is_leap_year(year):\n",
    "    # Leap years are either divisible by 4 but not by 100, or divisible by 400.\n",
    "    if (year % 4 == 0 and year % 100 != 0) or (year % 400 == 0):\n",
    "        return True\n",
    "    else:\n",
    "        return False\n",
    "\n",
    "# Input year from the user\n",
    "year = int(input(\"Enter a year: \"))\n",
    "\n",
    "# Check if it's a leap year using the is_leap_year function\n",
    "if is_leap_year(year):\n",
    "    print(f\"{year} is a leap year.\")\n",
    "else:\n",
    "    print(f\"{year} is not a leap year.\")"
   ]
  },
  {
   "cell_type": "code",
   "execution_count": null,
   "id": "4d5637c2",
   "metadata": {},
   "outputs": [],
   "source": [
    "\n",
    "\n"
   ]
  },
  {
   "cell_type": "code",
   "execution_count": 77,
   "id": "96fd4aa6",
   "metadata": {},
   "outputs": [
    {
     "name": "stdout",
     "output_type": "stream",
     "text": [
      "x is greater than 5\n"
     ]
    }
   ],
   "source": [
    "#How do you use the \"assert\" statement in Python to add debugging checks within if-else blocks?\n",
    "\n",
    "\n",
    "x = 10\n",
    "\n",
    "if x > 5:\n",
    "    # This condition is met, so it continues executing\n",
    "    assert x < 20, \"x should be less than 20\"\n",
    "    print(\"x is greater than 5\")\n",
    "else:\n",
    "    print(\"x is not greater than 5\")\n"
   ]
  },
  {
   "cell_type": "code",
   "execution_count": 78,
   "id": "8ff863bd",
   "metadata": {},
   "outputs": [
    {
     "ename": "SyntaxError",
     "evalue": "invalid syntax (74693495.py, line 1)",
     "output_type": "error",
     "traceback": [
      "\u001b[1;36m  Cell \u001b[1;32mIn[78], line 1\u001b[1;36m\u001b[0m\n\u001b[1;33m    Create a Python program that determines the eligibility of a person for a senior citizen discount based on age using if-else.\u001b[0m\n\u001b[1;37m           ^\u001b[0m\n\u001b[1;31mSyntaxError\u001b[0m\u001b[1;31m:\u001b[0m invalid syntax\n"
     ]
    }
   ],
   "source": []
  },
  {
   "cell_type": "code",
   "execution_count": 79,
   "id": "e9df95fd",
   "metadata": {},
   "outputs": [
    {
     "name": "stdout",
     "output_type": "stream",
     "text": [
      "still not a senior citizen\n"
     ]
    }
   ],
   "source": [
    "#Create a Python program that determines the eligibility of a person for a senior citizen \n",
    "#discount based on age using if-else.\n",
    "\n",
    "age=56\n",
    "\n",
    "if age>60:\n",
    "    print(\"senior citizen\")\n",
    "else:\n",
    "     print(\"still not a senior citizen\")\n",
    "    "
   ]
  },
  {
   "cell_type": "code",
   "execution_count": 84,
   "id": "5b0239a3",
   "metadata": {},
   "outputs": [
    {
     "name": "stdout",
     "output_type": "stream",
     "text": [
      "Enter a character: p\n",
      "The character 'p' is lowercase.\n"
     ]
    }
   ],
   "source": [
    "#Write a Python program to categorize a given character as uppercase, lowercase, \n",
    "#or neither using if-else.\n",
    "\n",
    "# Input a character from the user\n",
    "character = input(\"Enter a character: \")\n",
    "\n",
    "# Check if the character is a letter\n",
    "if character.isalpha():\n",
    "    if character.isupper():\n",
    "        print(f\"The character '{character}' is uppercase.\")\n",
    "    elif character.islower():\n",
    "        print(f\"The character '{character}' is lowercase.\")\n",
    "else:\n",
    "    print(f\"The character '{character}' is neither uppercase nor lowercase.\")"
   ]
  },
  {
   "cell_type": "code",
   "execution_count": 87,
   "id": "7ef13c51",
   "metadata": {},
   "outputs": [
    {
     "name": "stdout",
     "output_type": "stream",
     "text": [
      "Enter the value of a : 1\n",
      "Enter the value of b : 4\n",
      "Enter the value of c : 5\n",
      "Two distinct complex roots\n",
      "the roots are : \n",
      "root1= (-2+1j)\n",
      "root2= (-2-1j)\n"
     ]
    }
   ],
   "source": [
    "#Write a Python program to determine the roots of a quadratic equation using if-else.\n",
    "\n",
    "\n",
    "a=float(input(\"Enter the value of a : \"))\n",
    "b=float(input(\"Enter the value of b : \"))\n",
    "c=float(input(\"Enter the value of c : \"))\n",
    "\n",
    "discriminant=b*b-4*a*c\n",
    "\n",
    "if discriminant>0:\n",
    "    print(\"Two distinct real roots\")\n",
    "    root1=(-b+(discriminant)**0.5)/2.0*a\n",
    "    root2=(-b-(discriminant)**0.5)/2.0*a\n",
    "    print(f\"root1= {root1}\")\n",
    "    print(f\"root2= {root2}\")\n",
    "elif discriminant<0:\n",
    "    print(\"Two distinct complex roots\")\n",
    "    real_part=-b/2*a\n",
    "    imaginary_part=(-discriminant)**0.5/2*a\n",
    "    root1=complex(real_part,imaginary_part)\n",
    "    root2=complex(real_part,-imaginary_part)\n",
    "    print(f\"the roots are : \")\n",
    "    print(f\"root1= {root1}\")\n",
    "    print(f\"root2= {root2}\")\n",
    "    \n",
    "else:\n",
    "    print(\"One real root\")\n",
    "    root=(-b/2*a)\n",
    "    print(f\"Root is {root}\")"
   ]
  },
  {
   "cell_type": "code",
   "execution_count": 89,
   "id": "6c902c13",
   "metadata": {},
   "outputs": [
    {
     "name": "stdout",
     "output_type": "stream",
     "text": [
      "Century year\n"
     ]
    }
   ],
   "source": [
    "#Create a Python program that checks if a given year is a century year or not using if-else.\n",
    "\n",
    "year=2000\n",
    "\n",
    "if year%100==0:\n",
    "    print(\"Century year\")\n",
    "else:\n",
    "     print(\"Not a century year\")\n",
    "    "
   ]
  },
  {
   "cell_type": "code",
   "execution_count": 92,
   "id": "c6618e40",
   "metadata": {},
   "outputs": [
    {
     "name": "stdout",
     "output_type": "stream",
     "text": [
      "Not a perfect square\n"
     ]
    }
   ],
   "source": [
    "#Write a Python program to determine if a given number is a perfect square using if-else.\n",
    "\n",
    "n=78\n",
    "\n",
    "for i in range(n):\n",
    "    if n==i*i:\n",
    "        print(\"perfect square\")\n",
    "        break\n",
    "else:\n",
    "    print(\"Not a perfect square\")"
   ]
  },
  {
   "cell_type": "code",
   "execution_count": 95,
   "id": "82a574f5",
   "metadata": {},
   "outputs": [
    {
     "name": "stdout",
     "output_type": "stream",
     "text": [
      "Current value of i: 1\n",
      "Current value of i: 2\n",
      "Current value of i: 4\n",
      "Current value of i: 5\n",
      "\n",
      "Current value of i: 1\n",
      "Current value of i: 2\n",
      "Current value of i: 3\n"
     ]
    }
   ],
   "source": [
    "# Explain the purpose of the \"continue\" and \"break\" statements within if-else loops.\n",
    "\n",
    "for i in range(1, 6):\n",
    "    if i == 3:\n",
    "        continue  # Skip iteration when i is 3\n",
    "    print(f\"Current value of i: {i}\")\n",
    "print()    \n",
    "    \n",
    "for i in range(1, 6):\n",
    "    if i == 4:\n",
    "        break  # Exit the loop when i is 4\n",
    "    print(f\"Current value of i: {i}\")"
   ]
  },
  {
   "cell_type": "code",
   "execution_count": null,
   "id": "9c8cd645",
   "metadata": {},
   "outputs": [],
   "source": [
    "\n",
    "\n",
    "\n"
   ]
  },
  {
   "cell_type": "code",
   "execution_count": 98,
   "id": "f9c180e9",
   "metadata": {},
   "outputs": [
    {
     "name": "stdout",
     "output_type": "stream",
     "text": [
      "Enter your weight in kilograms: 52\n",
      "Enter your height in meters: 1.67\n",
      "Your BMI is: 18.65\n",
      "Category: Normal Weight\n"
     ]
    }
   ],
   "source": [
    "#Create a Python program that calculates the BMI (Body Mass Index) \n",
    "#of a person based on their weight and height using if-else.\n",
    "\n",
    "# Input weight and height from the user\n",
    "weight_kg = float(input(\"Enter your weight in kilograms: \"))\n",
    "height_m = float(input(\"Enter your height in meters: \"))\n",
    "\n",
    "# Calculate BMI\n",
    "bmi = weight_kg / (height_m ** 2)\n",
    "\n",
    "# Categorize BMI using if-else statements\n",
    "if bmi < 18.5:\n",
    "    category = \"Underweight\"\n",
    "elif 18.5 <= bmi < 24.9:\n",
    "    category = \"Normal Weight\"\n",
    "elif 25 <= bmi < 29.9:\n",
    "    category = \"Overweight\"\n",
    "else:\n",
    "    category = \"Obese\"\n",
    "\n",
    "# Display the BMI and category\n",
    "print(f\"Your BMI is: {bmi:.2f}\")\n",
    "print(f\"Category: {category}\")"
   ]
  },
  {
   "cell_type": "code",
   "execution_count": 101,
   "id": "feab4e71",
   "metadata": {},
   "outputs": [
    {
     "name": "stdout",
     "output_type": "stream",
     "text": [
      "[2, 4, 6, 8]\n"
     ]
    }
   ],
   "source": [
    "#How can you use the \"filter()\" function with if-else statements to filter elements from a list?\n",
    "l=[1,2,3,4,5,6,7,8]\n",
    "\n",
    "def even_number(n):\n",
    "    if n%2==0:\n",
    "        return True\n",
    "    else:\n",
    "        return False\n",
    "    \n",
    "#filtering even numbers\n",
    "x=list(filter(even_number, l ))\n",
    "print(x)\n"
   ]
  },
  {
   "cell_type": "code",
   "execution_count": 106,
   "id": "7a431908",
   "metadata": {},
   "outputs": [
    {
     "name": "stdout",
     "output_type": "stream",
     "text": [
      "prime\n"
     ]
    }
   ],
   "source": [
    "#Write a Python program to determine if a given number is prime or not using if-else.\n",
    "\n",
    "n=23\n",
    "\n",
    "for i in range(2,n):\n",
    "    if n%i==0:\n",
    "        print(\"not prime\")\n",
    "        break\n",
    "else:\n",
    "    print(\"prime\")"
   ]
  },
  {
   "cell_type": "code",
   "execution_count": null,
   "id": "dd8f1a5d",
   "metadata": {},
   "outputs": [],
   "source": [
    "\n"
   ]
  }
 ],
 "metadata": {
  "kernelspec": {
   "display_name": "Python 3 (ipykernel)",
   "language": "python",
   "name": "python3"
  },
  "language_info": {
   "codemirror_mode": {
    "name": "ipython",
    "version": 3
   },
   "file_extension": ".py",
   "mimetype": "text/x-python",
   "name": "python",
   "nbconvert_exporter": "python",
   "pygments_lexer": "ipython3",
   "version": "3.9.17"
  }
 },
 "nbformat": 4,
 "nbformat_minor": 5
}
